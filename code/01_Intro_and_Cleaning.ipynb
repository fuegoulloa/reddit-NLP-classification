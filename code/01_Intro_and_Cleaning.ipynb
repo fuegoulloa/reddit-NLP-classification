{
 "cells": [
  {
   "cell_type": "markdown",
   "id": "df129eb8-a4da-42ae-9779-a09b64f1f601",
   "metadata": {},
   "source": [
    "<div align = 'center'>\n",
    "    <img src = '../images/ga_logo_large.png' width = 400 > <img src = '../images/pipistrello.png' width = 400 >\n",
    "</div>"
   ]
  },
  {
   "cell_type": "markdown",
   "id": "65bb2d37-7bf4-4984-99a8-bf8c3f6f34c9",
   "metadata": {},
   "source": [
    "---\n",
    "## Project 3: Web APIs and NLP"
   ]
  },
  {
   "cell_type": "markdown",
   "id": "344352d0-4937-4c31-86ee-9ec4f0921a33",
   "metadata": {},
   "source": [
    "-----\n",
    "### Problem Statement"
   ]
  },
  {
   "cell_type": "markdown",
   "id": "692c92bd-0764-421b-a08e-ce2238a63d8e",
   "metadata": {},
   "source": [
    "Lorem ipsum, dolor sit..."
   ]
  },
  {
   "cell_type": "markdown",
   "id": "5ea91705-0b1b-4f02-b377-70914702c7d3",
   "metadata": {},
   "source": [
    "----\n",
    "### Data"
   ]
  },
  {
   "cell_type": "markdown",
   "id": "813428e9-d6fd-4a01-8a21-5eae3d5371b4",
   "metadata": {},
   "source": [
    "Two datasets were used for this analysis...\n",
    "* `reddit_realestate.csv`:  This data was scraped...\n",
    "* `reddit_travel.csv`: This data was scraped..."
   ]
  },
  {
   "cell_type": "markdown",
   "id": "147a1d0a-f69e-49b3-8606-118cb5af20d3",
   "metadata": {},
   "source": [
    "----\n",
    "### Consulted Sources"
   ]
  },
  {
   "cell_type": "markdown",
   "id": "ac692ada-1c98-4bbd-96b8-38a8f7ce5661",
   "metadata": {},
   "source": [
    "Lorem ipsum, vulgar latin, romance languages..."
   ]
  },
  {
   "cell_type": "markdown",
   "id": "971d0b67-a661-4a41-98e6-5cfb37f3c115",
   "metadata": {},
   "source": [
    "----\n",
    "### Functions"
   ]
  },
  {
   "cell_type": "code",
   "execution_count": null,
   "id": "4c7efa80-0697-4a41-ab83-4dc884f39552",
   "metadata": {},
   "outputs": [],
   "source": []
  },
  {
   "cell_type": "markdown",
   "id": "962c9c22-70f9-4821-a500-2462ade80de1",
   "metadata": {},
   "source": [
    "----\n",
    "### Data Import and Cleaning"
   ]
  },
  {
   "cell_type": "code",
   "execution_count": null,
   "id": "f0497728-ab70-4d7a-a825-2c3702ac9cd3",
   "metadata": {},
   "outputs": [],
   "source": []
  },
  {
   "cell_type": "code",
   "execution_count": null,
   "id": "62bd8537-c66a-4939-ba21-46433970f242",
   "metadata": {},
   "outputs": [],
   "source": []
  },
  {
   "cell_type": "code",
   "execution_count": null,
   "id": "73964a5a-f5cb-4210-a16a-1887dd999c3f",
   "metadata": {},
   "outputs": [],
   "source": []
  },
  {
   "cell_type": "code",
   "execution_count": null,
   "id": "13b7dcf7-b5f1-41a9-a0aa-c4b7f7cd330b",
   "metadata": {},
   "outputs": [],
   "source": []
  },
  {
   "cell_type": "code",
   "execution_count": null,
   "id": "41ab49cb-d264-4002-836d-9c6c8ae81cd8",
   "metadata": {},
   "outputs": [],
   "source": []
  },
  {
   "cell_type": "code",
   "execution_count": null,
   "id": "91a52567-86db-434d-a968-78fd3e6dba34",
   "metadata": {},
   "outputs": [],
   "source": []
  },
  {
   "cell_type": "code",
   "execution_count": null,
   "id": "b69abb55-9c70-41d4-8518-ab09b0fc9375",
   "metadata": {},
   "outputs": [],
   "source": []
  },
  {
   "cell_type": "code",
   "execution_count": null,
   "id": "56c2c3be-5947-4cb2-bb6b-51496425147f",
   "metadata": {},
   "outputs": [],
   "source": []
  },
  {
   "cell_type": "code",
   "execution_count": null,
   "id": "3634e794-99df-4408-9406-4cbeafd93f53",
   "metadata": {},
   "outputs": [],
   "source": []
  },
  {
   "cell_type": "code",
   "execution_count": null,
   "id": "27d714a8-ae28-4478-9c56-15bfb3bde197",
   "metadata": {},
   "outputs": [],
   "source": []
  },
  {
   "cell_type": "code",
   "execution_count": null,
   "id": "4163f630-9954-4ecb-9a29-d4ba2848da13",
   "metadata": {},
   "outputs": [],
   "source": []
  },
  {
   "cell_type": "code",
   "execution_count": null,
   "id": "2302abd0-d640-4972-93a4-ec70c0319d66",
   "metadata": {},
   "outputs": [],
   "source": []
  },
  {
   "cell_type": "code",
   "execution_count": null,
   "id": "065abcad-1a7e-4521-8e15-9396637f0e25",
   "metadata": {},
   "outputs": [],
   "source": []
  },
  {
   "cell_type": "code",
   "execution_count": null,
   "id": "05ec7562-076c-437c-a8fe-beac00670e34",
   "metadata": {},
   "outputs": [],
   "source": []
  },
  {
   "cell_type": "code",
   "execution_count": null,
   "id": "2870ce3e-4312-484c-b47b-7a97647c63ed",
   "metadata": {},
   "outputs": [],
   "source": []
  },
  {
   "cell_type": "code",
   "execution_count": null,
   "id": "6d51ed51-a22e-4f2f-a4df-417c78e951ff",
   "metadata": {},
   "outputs": [],
   "source": []
  }
 ],
 "metadata": {
  "kernelspec": {
   "display_name": "Python 3 (ipykernel)",
   "language": "python",
   "name": "python3"
  },
  "language_info": {
   "codemirror_mode": {
    "name": "ipython",
    "version": 3
   },
   "file_extension": ".py",
   "mimetype": "text/x-python",
   "name": "python",
   "nbconvert_exporter": "python",
   "pygments_lexer": "ipython3",
   "version": "3.11.5"
  }
 },
 "nbformat": 4,
 "nbformat_minor": 5
}
