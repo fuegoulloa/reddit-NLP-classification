{
 "cells": [
  {
   "cell_type": "markdown",
   "id": "df129eb8-a4da-42ae-9779-a09b64f1f601",
   "metadata": {},
   "source": [
    "<table align=\"center\">\n",
    "    <tr>\n",
    "        <td>\n",
    "            <img src=\"../images/ga_logo_large.png\" width=\"400\">\n",
    "        </td>\n",
    "        <td>\n",
    "            <img src=\"../images/pipistrello.png\" width=\"400\">\n",
    "        </td>\n",
    "    </tr>\n",
    "</table>"
   ]
  },
  {
   "cell_type": "markdown",
   "id": "65bb2d37-7bf4-4984-99a8-bf8c3f6f34c9",
   "metadata": {},
   "source": [
    "---\n",
    "## **Project 3: Web APIs and NLP**"
   ]
  },
  {
   "cell_type": "markdown",
   "id": "344352d0-4937-4c31-86ee-9ec4f0921a33",
   "metadata": {},
   "source": [
    "-----\n",
    "### Problem Statement"
   ]
  },
  {
   "cell_type": "markdown",
   "id": "692c92bd-0764-421b-a08e-ce2238a63d8e",
   "metadata": {},
   "source": [
    "Lorem ipsum, dolor sit..."
   ]
  },
  {
   "cell_type": "markdown",
   "id": "5ea91705-0b1b-4f02-b377-70914702c7d3",
   "metadata": {},
   "source": [
    "----\n",
    "### Data"
   ]
  },
  {
   "cell_type": "markdown",
   "id": "813428e9-d6fd-4a01-8a21-5eae3d5371b4",
   "metadata": {},
   "source": [
    "Two datasets were used for this analysis...\n",
    "* `reddit_realestate.csv`:  This data was scraped...\n",
    "* `reddit_travel.csv`: This data was scraped..."
   ]
  },
  {
   "cell_type": "markdown",
   "id": "147a1d0a-f69e-49b3-8606-118cb5af20d3",
   "metadata": {},
   "source": [
    "----\n",
    "### Consulted Sources"
   ]
  },
  {
   "cell_type": "markdown",
   "id": "ac692ada-1c98-4bbd-96b8-38a8f7ce5661",
   "metadata": {},
   "source": [
    "Lorem ipsum, vulgar latin, romance languages..."
   ]
  },
  {
   "cell_type": "markdown",
   "id": "971d0b67-a661-4a41-98e6-5cfb37f3c115",
   "metadata": {},
   "source": [
    "----\n",
    "### Functions"
   ]
  },
  {
   "cell_type": "code",
   "execution_count": null,
   "id": "4c7efa80-0697-4a41-ab83-4dc884f39552",
   "metadata": {},
   "outputs": [],
   "source": []
  },
  {
   "cell_type": "markdown",
   "id": "962c9c22-70f9-4821-a500-2462ade80de1",
   "metadata": {},
   "source": [
    "----\n",
    "### Data Import and Cleaning"
   ]
  },
  {
   "cell_type": "code",
   "execution_count": 11,
   "id": "f0497728-ab70-4d7a-a825-2c3702ac9cd3",
   "metadata": {
    "tags": []
   },
   "outputs": [],
   "source": [
    "# needed libraries for this notebook\n",
    "import numpy as np\n",
    "import pandas as pd"
   ]
  },
  {
   "cell_type": "code",
   "execution_count": 12,
   "id": "62bd8537-c66a-4939-ba21-46433970f242",
   "metadata": {
    "tags": []
   },
   "outputs": [
    {
     "name": "stdout",
     "output_type": "stream",
     "text": [
      "(3463, 5)\n",
      "(1031, 3)\n",
      "**********\n",
      "(3060, 5)\n",
      "(1091, 3)\n"
     ]
    }
   ],
   "source": [
    "# read in files\n",
    "file_path1 = '../data/reddit--RealEstate.csv'\n",
    "file_path1a = '../data/reddit_realestate.csv'\n",
    "\n",
    "file_path2 = '../data/reddit--travel.csv'\n",
    "file_path2a = '../data/reddit_travel.csv'\n",
    "\n",
    "realestate1 = pd.read_csv(file_path1)\n",
    "realestate2 = pd.read_csv(file_path1a)\n",
    "\n",
    "travel1 = pd.read_csv(file_path2)\n",
    "travel2 = pd.read_csv(file_path2a)\n",
    "\n",
    "# check dimensions\n",
    "print(realestate1.shape)\n",
    "print(realestate2.shape)\n",
    "print('*'*10)\n",
    "print(travel1.shape)\n",
    "print(travel2.shape)"
   ]
  },
  {
   "cell_type": "code",
   "execution_count": 13,
   "id": "ad6988a6-edc7-4d6c-bd06-c8e0f26be87b",
   "metadata": {
    "tags": []
   },
   "outputs": [],
   "source": [
    "# append the old dataset to the new dataset\n",
    "realestate = pd.concat([realestate1, realestate2], ignore_index = True, sort = False)\n",
    "travel = pd.concat([travel1, travel2], ignore_index = True, sort = False)"
   ]
  },
  {
   "cell_type": "code",
   "execution_count": 14,
   "id": "301dd345-f072-4cb4-b5e6-bc38b78c9235",
   "metadata": {
    "tags": []
   },
   "outputs": [
    {
     "name": "stdout",
     "output_type": "stream",
     "text": [
      "(4494, 5)\n",
      "(4151, 5)\n"
     ]
    }
   ],
   "source": [
    "print(realestate.shape)\n",
    "print(travel.shape)"
   ]
  },
  {
   "cell_type": "code",
   "execution_count": 15,
   "id": "0097f3db-f6ee-4b7b-b4e2-eed71ae0a657",
   "metadata": {
    "tags": []
   },
   "outputs": [
    {
     "data": {
      "text/html": [
       "<div>\n",
       "<style scoped>\n",
       "    .dataframe tbody tr th:only-of-type {\n",
       "        vertical-align: middle;\n",
       "    }\n",
       "\n",
       "    .dataframe tbody tr th {\n",
       "        vertical-align: top;\n",
       "    }\n",
       "\n",
       "    .dataframe thead th {\n",
       "        text-align: right;\n",
       "    }\n",
       "</style>\n",
       "<table border=\"1\" class=\"dataframe\">\n",
       "  <thead>\n",
       "    <tr style=\"text-align: right;\">\n",
       "      <th></th>\n",
       "      <th>post_id</th>\n",
       "      <th>post_title</th>\n",
       "      <th>post_text</th>\n",
       "      <th>published_on</th>\n",
       "      <th>scraped_on</th>\n",
       "    </tr>\n",
       "  </thead>\n",
       "  <tbody>\n",
       "    <tr>\n",
       "      <th>4491</th>\n",
       "      <td>t3_1fvse4j</td>\n",
       "      <td>Any real estate companies that lets people bui...</td>\n",
       "      <td>I know there will be a lot of building codes a...</td>\n",
       "      <td>NaN</td>\n",
       "      <td>NaN</td>\n",
       "    </tr>\n",
       "    <tr>\n",
       "      <th>4492</th>\n",
       "      <td>t3_1fvdxx7</td>\n",
       "      <td>Buying property previously owned by a church</td>\n",
       "      <td>We are purchasing a home previously owned by a...</td>\n",
       "      <td>NaN</td>\n",
       "      <td>NaN</td>\n",
       "    </tr>\n",
       "    <tr>\n",
       "      <th>4493</th>\n",
       "      <td>t3_1fvzlcy</td>\n",
       "      <td>Air conditioning unit stolen</td>\n",
       "      <td>My realtor went to see a new build for me and ...</td>\n",
       "      <td>NaN</td>\n",
       "      <td>NaN</td>\n",
       "    </tr>\n",
       "  </tbody>\n",
       "</table>\n",
       "</div>"
      ],
      "text/plain": [
       "         post_id                                         post_title  \\\n",
       "4491  t3_1fvse4j  Any real estate companies that lets people bui...   \n",
       "4492  t3_1fvdxx7      Buying property previously owned by a church    \n",
       "4493  t3_1fvzlcy                      Air conditioning unit stolen    \n",
       "\n",
       "                                              post_text  published_on  \\\n",
       "4491  I know there will be a lot of building codes a...           NaN   \n",
       "4492  We are purchasing a home previously owned by a...           NaN   \n",
       "4493  My realtor went to see a new build for me and ...           NaN   \n",
       "\n",
       "     scraped_on  \n",
       "4491        NaN  \n",
       "4492        NaN  \n",
       "4493        NaN  "
      ]
     },
     "execution_count": 15,
     "metadata": {},
     "output_type": "execute_result"
    }
   ],
   "source": [
    "# check last three rows for realestate df\n",
    "realestate.tail(3)"
   ]
  },
  {
   "cell_type": "code",
   "execution_count": 16,
   "id": "976d92c4-ab58-4a3a-88ad-e778eff98377",
   "metadata": {
    "tags": []
   },
   "outputs": [
    {
     "data": {
      "text/html": [
       "<div>\n",
       "<style scoped>\n",
       "    .dataframe tbody tr th:only-of-type {\n",
       "        vertical-align: middle;\n",
       "    }\n",
       "\n",
       "    .dataframe tbody tr th {\n",
       "        vertical-align: top;\n",
       "    }\n",
       "\n",
       "    .dataframe thead th {\n",
       "        text-align: right;\n",
       "    }\n",
       "</style>\n",
       "<table border=\"1\" class=\"dataframe\">\n",
       "  <thead>\n",
       "    <tr style=\"text-align: right;\">\n",
       "      <th></th>\n",
       "      <th>post_id</th>\n",
       "      <th>post_title</th>\n",
       "      <th>post_text</th>\n",
       "      <th>published_on</th>\n",
       "      <th>scraped_on</th>\n",
       "    </tr>\n",
       "  </thead>\n",
       "  <tbody>\n",
       "    <tr>\n",
       "      <th>0</th>\n",
       "      <td>t3_1dzc3zh</td>\n",
       "      <td>All Layover Questions - READ THIS NOTICE</td>\n",
       "      <td>**READ THE NEW LAYOVER FAQ:** [**https://www.r...</td>\n",
       "      <td>1.720556e+09</td>\n",
       "      <td>2024-10-08 10:34:14</td>\n",
       "    </tr>\n",
       "    <tr>\n",
       "      <th>1</th>\n",
       "      <td>t3_1fya9jq</td>\n",
       "      <td>A few favs from Herzegovina</td>\n",
       "      <td>NaN</td>\n",
       "      <td>1.728315e+09</td>\n",
       "      <td>2024-10-08 10:34:14</td>\n",
       "    </tr>\n",
       "    <tr>\n",
       "      <th>2</th>\n",
       "      <td>t3_1fypldc</td>\n",
       "      <td>Missing a flight because you get too comfortab...</td>\n",
       "      <td>Is there a name for this phenomenon?\\n\\nAsking...</td>\n",
       "      <td>1.728355e+09</td>\n",
       "      <td>2024-10-08 10:34:14</td>\n",
       "    </tr>\n",
       "  </tbody>\n",
       "</table>\n",
       "</div>"
      ],
      "text/plain": [
       "      post_id                                         post_title  \\\n",
       "0  t3_1dzc3zh           All Layover Questions - READ THIS NOTICE   \n",
       "1  t3_1fya9jq                        A few favs from Herzegovina   \n",
       "2  t3_1fypldc  Missing a flight because you get too comfortab...   \n",
       "\n",
       "                                           post_text  published_on  \\\n",
       "0  **READ THE NEW LAYOVER FAQ:** [**https://www.r...  1.720556e+09   \n",
       "1                                                NaN  1.728315e+09   \n",
       "2  Is there a name for this phenomenon?\\n\\nAsking...  1.728355e+09   \n",
       "\n",
       "            scraped_on  \n",
       "0  2024-10-08 10:34:14  \n",
       "1  2024-10-08 10:34:14  \n",
       "2  2024-10-08 10:34:14  "
      ]
     },
     "execution_count": 16,
     "metadata": {},
     "output_type": "execute_result"
    }
   ],
   "source": [
    "# check first three rows for travel df\n",
    "travel.head(3)"
   ]
  },
  {
   "cell_type": "markdown",
   "id": "fadbc8fd-1d34-4b7c-9249-c321cd9d412a",
   "metadata": {},
   "source": [
    "Having scraped the data myself, I noticed that the first line on the `travel` dataframe is a general notice for users.  This line will be removed from it, it's not a user's post per se.  In case it might've been duplicated in subsequent scrapes, look for every row where `post_id` is equal to `t3_1dzc3zh`."
   ]
  },
  {
   "cell_type": "code",
   "execution_count": 18,
   "id": "5c395351-1092-4fb6-a04d-13c64b123f4a",
   "metadata": {
    "tags": []
   },
   "outputs": [
    {
     "data": {
      "text/plain": [
       "Index([0, 764, 1528, 2294, 3060, 3750], dtype='int64')"
      ]
     },
     "execution_count": 18,
     "metadata": {},
     "output_type": "execute_result"
    }
   ],
   "source": [
    "# remove rows in travel df with post id: t3_1dzc3zh\n",
    "# find the rows first\n",
    "rows_to_remove = travel[travel['post_id'] == 't3_1dzc3zh'].index\n",
    "rows_to_remove"
   ]
  },
  {
   "cell_type": "code",
   "execution_count": 19,
   "id": "6e65e952-c764-49b9-b19e-cf915de25f65",
   "metadata": {
    "tags": []
   },
   "outputs": [],
   "source": [
    "# remove from df\n",
    "travel.drop(index = rows_to_remove, inplace = True)\n",
    "travel.reset_index(drop = True, inplace = True)"
   ]
  },
  {
   "cell_type": "code",
   "execution_count": 20,
   "id": "e9ae86e4-8be0-4f15-8377-9d9e8c9392c3",
   "metadata": {
    "tags": []
   },
   "outputs": [
    {
     "name": "stdout",
     "output_type": "stream",
     "text": [
      "(4145, 5)\n"
     ]
    },
    {
     "data": {
      "text/html": [
       "<div>\n",
       "<style scoped>\n",
       "    .dataframe tbody tr th:only-of-type {\n",
       "        vertical-align: middle;\n",
       "    }\n",
       "\n",
       "    .dataframe tbody tr th {\n",
       "        vertical-align: top;\n",
       "    }\n",
       "\n",
       "    .dataframe thead th {\n",
       "        text-align: right;\n",
       "    }\n",
       "</style>\n",
       "<table border=\"1\" class=\"dataframe\">\n",
       "  <thead>\n",
       "    <tr style=\"text-align: right;\">\n",
       "      <th></th>\n",
       "      <th>post_id</th>\n",
       "      <th>post_title</th>\n",
       "      <th>post_text</th>\n",
       "      <th>published_on</th>\n",
       "      <th>scraped_on</th>\n",
       "    </tr>\n",
       "  </thead>\n",
       "  <tbody>\n",
       "    <tr>\n",
       "      <th>0</th>\n",
       "      <td>t3_1fya9jq</td>\n",
       "      <td>A few favs from Herzegovina</td>\n",
       "      <td>NaN</td>\n",
       "      <td>1.728315e+09</td>\n",
       "      <td>2024-10-08 10:34:14</td>\n",
       "    </tr>\n",
       "    <tr>\n",
       "      <th>1</th>\n",
       "      <td>t3_1fypldc</td>\n",
       "      <td>Missing a flight because you get too comfortab...</td>\n",
       "      <td>Is there a name for this phenomenon?\\n\\nAsking...</td>\n",
       "      <td>1.728355e+09</td>\n",
       "      <td>2024-10-08 10:34:14</td>\n",
       "    </tr>\n",
       "  </tbody>\n",
       "</table>\n",
       "</div>"
      ],
      "text/plain": [
       "      post_id                                         post_title  \\\n",
       "0  t3_1fya9jq                        A few favs from Herzegovina   \n",
       "1  t3_1fypldc  Missing a flight because you get too comfortab...   \n",
       "\n",
       "                                           post_text  published_on  \\\n",
       "0                                                NaN  1.728315e+09   \n",
       "1  Is there a name for this phenomenon?\\n\\nAsking...  1.728355e+09   \n",
       "\n",
       "            scraped_on  \n",
       "0  2024-10-08 10:34:14  \n",
       "1  2024-10-08 10:34:14  "
      ]
     },
     "execution_count": 20,
     "metadata": {},
     "output_type": "execute_result"
    }
   ],
   "source": [
    "# confirm\n",
    "print(travel.shape)\n",
    "travel.head(2)"
   ]
  },
  {
   "cell_type": "markdown",
   "id": "3a4843b2-4d2a-4844-913b-0d9786e75ac3",
   "metadata": {},
   "source": [
    "----\n",
    "**Duplicates**<br>\n",
    "Because the data was scraped, there's a possibility of having duplicate posts.  The first step in cleaning up the data will be to remove any duplicates from both dataframes. This will be accomplished using the `post_id` column."
   ]
  },
  {
   "cell_type": "code",
   "execution_count": 22,
   "id": "13b7dcf7-b5f1-41a9-a0aa-c4b7f7cd330b",
   "metadata": {
    "tags": []
   },
   "outputs": [
    {
     "name": "stdout",
     "output_type": "stream",
     "text": [
      "Number of rows before removing duplicates: 4494\n",
      "Number of rows after removing duplicates: 1055\n"
     ]
    }
   ],
   "source": [
    "# drop duplicates from realestate df\n",
    "print(f'Number of rows before removing duplicates: {realestate.shape[0]}')\n",
    "realestate.drop_duplicates(subset = ['post_id'], inplace = True)\n",
    "print(f'Number of rows after removing duplicates: {realestate.shape[0]}')"
   ]
  },
  {
   "cell_type": "code",
   "execution_count": 23,
   "id": "41ab49cb-d264-4002-836d-9c6c8ae81cd8",
   "metadata": {
    "tags": []
   },
   "outputs": [
    {
     "name": "stdout",
     "output_type": "stream",
     "text": [
      "Number of rows before removing duplicates: 4145\n",
      "Number of rows after removing duplicates: 1108\n"
     ]
    }
   ],
   "source": [
    "# drop duplicates from travel df\n",
    "print(f'Number of rows before removing duplicates: {travel.shape[0]}')\n",
    "travel.drop_duplicates(subset = ['post_id'], inplace = True)\n",
    "print(f'Number of rows after removing duplicates: {travel.shape[0]}')"
   ]
  },
  {
   "cell_type": "markdown",
   "id": "4e79deed-f1ba-485f-9031-121c4e543fbe",
   "metadata": {},
   "source": [
    "---\n",
    "**Missing Values and Data Types**: `realestate`"
   ]
  },
  {
   "cell_type": "code",
   "execution_count": 25,
   "id": "8e24c2c6-f2ea-4739-9f8c-dc720da5cb14",
   "metadata": {
    "tags": []
   },
   "outputs": [
    {
     "data": {
      "text/plain": [
       "post_id           0\n",
       "post_title        0\n",
       "post_text        17\n",
       "published_on    183\n",
       "scraped_on      183\n",
       "dtype: int64"
      ]
     },
     "execution_count": 25,
     "metadata": {},
     "output_type": "execute_result"
    }
   ],
   "source": [
    "realestate.isnull().sum()"
   ]
  },
  {
   "cell_type": "markdown",
   "id": "8c937482-999e-4131-a90c-9c14e6d4e123",
   "metadata": {},
   "source": [
    "The timestamps are not particularly concerning at this juncture as this is a binary classfication task with text data.<br>\n",
    "Only 17 posts have no text besides the title.  These 17 rows can be dropped."
   ]
  },
  {
   "cell_type": "code",
   "execution_count": 27,
   "id": "3dff65a7-0bb6-4e49-a097-6cce4e832648",
   "metadata": {
    "tags": []
   },
   "outputs": [
    {
     "name": "stdout",
     "output_type": "stream",
     "text": [
      "rows before: 1055\n",
      "rows after: 1038\n"
     ]
    }
   ],
   "source": [
    "print(f'rows before: {realestate.shape[0]}')\n",
    "realestate.dropna(subset = ['post_text'], inplace = True)\n",
    "print(f'rows after: {realestate.shape[0]}')"
   ]
  },
  {
   "cell_type": "code",
   "execution_count": 75,
   "id": "5ebb067c-111f-4ee3-91a8-2bc53537459c",
   "metadata": {
    "tags": []
   },
   "outputs": [
    {
     "data": {
      "text/plain": [
       "post_id           0\n",
       "post_title        0\n",
       "post_text         0\n",
       "published_on    178\n",
       "scraped_on      178\n",
       "dtype: int64"
      ]
     },
     "execution_count": 75,
     "metadata": {},
     "output_type": "execute_result"
    }
   ],
   "source": [
    "realestate.isnull().sum()"
   ]
  },
  {
   "cell_type": "markdown",
   "id": "934135c1-84a7-4529-8c5e-bdb93b1efc8d",
   "metadata": {},
   "source": [
    "Looks good.  Check data types below."
   ]
  },
  {
   "cell_type": "code",
   "execution_count": 60,
   "id": "b94731ff-3c34-47bb-a752-c6ea4e74e04c",
   "metadata": {
    "tags": []
   },
   "outputs": [
    {
     "data": {
      "text/plain": [
       "post_id          object\n",
       "post_title       object\n",
       "post_text        object\n",
       "published_on    float64\n",
       "scraped_on       object\n",
       "dtype: object"
      ]
     },
     "execution_count": 60,
     "metadata": {},
     "output_type": "execute_result"
    }
   ],
   "source": [
    "realestate.dtypes"
   ]
  },
  {
   "cell_type": "markdown",
   "id": "0d1a00e6-8bbf-40bc-8322-aa261cb52907",
   "metadata": {},
   "source": [
    "All good!"
   ]
  },
  {
   "cell_type": "markdown",
   "id": "df781c93-bed5-4f5b-9a3a-a1327cc0d89a",
   "metadata": {},
   "source": [
    "---\n",
    "**Missing Values and Data Types**: `travel`"
   ]
  },
  {
   "cell_type": "code",
   "execution_count": 67,
   "id": "7c363191-91f1-4874-88a2-b5d293db6cbf",
   "metadata": {
    "tags": []
   },
   "outputs": [
    {
     "data": {
      "text/plain": [
       "post_id           0\n",
       "post_title        0\n",
       "post_text        14\n",
       "published_on    330\n",
       "scraped_on      330\n",
       "dtype: int64"
      ]
     },
     "execution_count": 67,
     "metadata": {},
     "output_type": "execute_result"
    }
   ],
   "source": [
    "travel.isnull().sum()"
   ]
  },
  {
   "cell_type": "markdown",
   "id": "e23d17e3-4d6e-4e65-9321-315465f6bf4a",
   "metadata": {},
   "source": [
    "Follow same approach as `realestate`"
   ]
  },
  {
   "cell_type": "code",
   "execution_count": 70,
   "id": "5c3c41d2-2c3b-4db0-91ed-1025ca2cfa6e",
   "metadata": {
    "tags": []
   },
   "outputs": [
    {
     "name": "stdout",
     "output_type": "stream",
     "text": [
      "rows before: 1108\n",
      "rows after: 1094\n"
     ]
    }
   ],
   "source": [
    "print(f'rows before: {travel.shape[0]}')\n",
    "travel.dropna(subset = ['post_text'], inplace = True)\n",
    "print(f'rows after: {travel.shape[0]}')"
   ]
  },
  {
   "cell_type": "code",
   "execution_count": 77,
   "id": "fab7e5c9-0169-4419-a515-a5febac84b03",
   "metadata": {
    "tags": []
   },
   "outputs": [
    {
     "data": {
      "text/plain": [
       "post_id           0\n",
       "post_title        0\n",
       "post_text         0\n",
       "published_on    327\n",
       "scraped_on      327\n",
       "dtype: int64"
      ]
     },
     "execution_count": 77,
     "metadata": {},
     "output_type": "execute_result"
    }
   ],
   "source": [
    "travel.isnull().sum()"
   ]
  },
  {
   "cell_type": "code",
   "execution_count": 72,
   "id": "c137840e-30b5-4341-ad50-cc66cd8306f7",
   "metadata": {
    "tags": []
   },
   "outputs": [
    {
     "data": {
      "text/plain": [
       "post_id          object\n",
       "post_title       object\n",
       "post_text        object\n",
       "published_on    float64\n",
       "scraped_on       object\n",
       "dtype: object"
      ]
     },
     "execution_count": 72,
     "metadata": {},
     "output_type": "execute_result"
    }
   ],
   "source": [
    "travel.dtypes"
   ]
  },
  {
   "cell_type": "markdown",
   "id": "79d8b912-34a3-4d82-bc44-ff112bd0e67a",
   "metadata": {},
   "source": [
    "All good!"
   ]
  },
  {
   "cell_type": "markdown",
   "id": "71146d72-3e91-451e-87df-5f636e31fcf9",
   "metadata": {},
   "source": [
    "---\n",
    "**Word counts and post lengths**"
   ]
  },
  {
   "cell_type": "markdown",
   "id": "76e7bbec-c123-4990-b151-837eb2b0cd57",
   "metadata": {},
   "source": [
    "Having numerical data about all this text data may come in handy later on.  New columns will be added to store the length and number of words for each post title and post text."
   ]
  },
  {
   "cell_type": "markdown",
   "id": "0d21396f-e679-4b3f-bcaa-6c7e5b263ea5",
   "metadata": {},
   "source": [
    "<u>Post Titles</u>"
   ]
  },
  {
   "cell_type": "code",
   "execution_count": 87,
   "id": "56c2c3be-5947-4cb2-bb6b-51496425147f",
   "metadata": {},
   "outputs": [],
   "source": [
    "# calculate post title lengths and store in new col\n",
    "realestate['post_title_length'] = realestate['post_title'].map(lambda x: len(x))\n",
    "travel['post_title_length'] = travel['post_title'].map(lambda x: len(x))"
   ]
  },
  {
   "cell_type": "code",
   "execution_count": 93,
   "id": "3634e794-99df-4408-9406-4cbeafd93f53",
   "metadata": {},
   "outputs": [
    {
     "data": {
      "text/html": [
       "<div>\n",
       "<style scoped>\n",
       "    .dataframe tbody tr th:only-of-type {\n",
       "        vertical-align: middle;\n",
       "    }\n",
       "\n",
       "    .dataframe tbody tr th {\n",
       "        vertical-align: top;\n",
       "    }\n",
       "\n",
       "    .dataframe thead th {\n",
       "        text-align: right;\n",
       "    }\n",
       "</style>\n",
       "<table border=\"1\" class=\"dataframe\">\n",
       "  <thead>\n",
       "    <tr style=\"text-align: right;\">\n",
       "      <th></th>\n",
       "      <th>post_id</th>\n",
       "      <th>post_title</th>\n",
       "      <th>post_text</th>\n",
       "      <th>published_on</th>\n",
       "      <th>scraped_on</th>\n",
       "      <th>post_title_length</th>\n",
       "    </tr>\n",
       "  </thead>\n",
       "  <tbody>\n",
       "    <tr>\n",
       "      <th>0</th>\n",
       "      <td>t3_1fybuha</td>\n",
       "      <td>I jointly inherited a property with someone wh...</td>\n",
       "      <td>My mother recently passed away and she had sig...</td>\n",
       "      <td>1.728318e+09</td>\n",
       "      <td>2024-10-08 10:34:06</td>\n",
       "      <td>67</td>\n",
       "    </tr>\n",
       "  </tbody>\n",
       "</table>\n",
       "</div>"
      ],
      "text/plain": [
       "      post_id                                         post_title  \\\n",
       "0  t3_1fybuha  I jointly inherited a property with someone wh...   \n",
       "\n",
       "                                           post_text  published_on  \\\n",
       "0  My mother recently passed away and she had sig...  1.728318e+09   \n",
       "\n",
       "            scraped_on  post_title_length  \n",
       "0  2024-10-08 10:34:06                 67  "
      ]
     },
     "execution_count": 93,
     "metadata": {},
     "output_type": "execute_result"
    }
   ],
   "source": [
    "# confirm realestate df\n",
    "realestate.head(1)"
   ]
  },
  {
   "cell_type": "code",
   "execution_count": 97,
   "id": "27d714a8-ae28-4478-9c56-15bfb3bde197",
   "metadata": {},
   "outputs": [
    {
     "data": {
      "text/html": [
       "<div>\n",
       "<style scoped>\n",
       "    .dataframe tbody tr th:only-of-type {\n",
       "        vertical-align: middle;\n",
       "    }\n",
       "\n",
       "    .dataframe tbody tr th {\n",
       "        vertical-align: top;\n",
       "    }\n",
       "\n",
       "    .dataframe thead th {\n",
       "        text-align: right;\n",
       "    }\n",
       "</style>\n",
       "<table border=\"1\" class=\"dataframe\">\n",
       "  <thead>\n",
       "    <tr style=\"text-align: right;\">\n",
       "      <th></th>\n",
       "      <th>post_id</th>\n",
       "      <th>post_title</th>\n",
       "      <th>post_text</th>\n",
       "      <th>published_on</th>\n",
       "      <th>scraped_on</th>\n",
       "      <th>post_title_length</th>\n",
       "    </tr>\n",
       "  </thead>\n",
       "  <tbody>\n",
       "    <tr>\n",
       "      <th>1</th>\n",
       "      <td>t3_1fypldc</td>\n",
       "      <td>Missing a flight because you get too comfortab...</td>\n",
       "      <td>Is there a name for this phenomenon?\\n\\nAsking...</td>\n",
       "      <td>1.728355e+09</td>\n",
       "      <td>2024-10-08 10:34:14</td>\n",
       "      <td>71</td>\n",
       "    </tr>\n",
       "  </tbody>\n",
       "</table>\n",
       "</div>"
      ],
      "text/plain": [
       "      post_id                                         post_title  \\\n",
       "1  t3_1fypldc  Missing a flight because you get too comfortab...   \n",
       "\n",
       "                                           post_text  published_on  \\\n",
       "1  Is there a name for this phenomenon?\\n\\nAsking...  1.728355e+09   \n",
       "\n",
       "            scraped_on  post_title_length  \n",
       "1  2024-10-08 10:34:14                 71  "
      ]
     },
     "execution_count": 97,
     "metadata": {},
     "output_type": "execute_result"
    }
   ],
   "source": [
    "# confirm travel df\n",
    "travel.head(1)"
   ]
  },
  {
   "cell_type": "code",
   "execution_count": null,
   "id": "4163f630-9954-4ecb-9a29-d4ba2848da13",
   "metadata": {},
   "outputs": [],
   "source": []
  },
  {
   "cell_type": "code",
   "execution_count": null,
   "id": "2302abd0-d640-4972-93a4-ec70c0319d66",
   "metadata": {},
   "outputs": [],
   "source": []
  },
  {
   "cell_type": "code",
   "execution_count": null,
   "id": "065abcad-1a7e-4521-8e15-9396637f0e25",
   "metadata": {},
   "outputs": [],
   "source": []
  },
  {
   "cell_type": "code",
   "execution_count": null,
   "id": "05ec7562-076c-437c-a8fe-beac00670e34",
   "metadata": {},
   "outputs": [],
   "source": []
  },
  {
   "cell_type": "code",
   "execution_count": null,
   "id": "2870ce3e-4312-484c-b47b-7a97647c63ed",
   "metadata": {},
   "outputs": [],
   "source": []
  },
  {
   "cell_type": "code",
   "execution_count": null,
   "id": "6d51ed51-a22e-4f2f-a4df-417c78e951ff",
   "metadata": {},
   "outputs": [],
   "source": []
  }
 ],
 "metadata": {
  "kernelspec": {
   "display_name": "Python 3 (ipykernel)",
   "language": "python",
   "name": "python3"
  },
  "language_info": {
   "codemirror_mode": {
    "name": "ipython",
    "version": 3
   },
   "file_extension": ".py",
   "mimetype": "text/x-python",
   "name": "python",
   "nbconvert_exporter": "python",
   "pygments_lexer": "ipython3",
   "version": "3.11.5"
  }
 },
 "nbformat": 4,
 "nbformat_minor": 5
}
