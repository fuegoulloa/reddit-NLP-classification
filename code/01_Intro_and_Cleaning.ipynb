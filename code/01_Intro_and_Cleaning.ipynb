{
 "cells": [
  {
   "cell_type": "markdown",
   "id": "df129eb8-a4da-42ae-9779-a09b64f1f601",
   "metadata": {},
   "source": [
    "<div style=\"text-align: center;\">\n",
    "    <img src=\"../images/ga_logo_large.png\">\n",
    "</div>"
   ]
  },
  {
   "cell_type": "markdown",
   "id": "65bb2d37-7bf4-4984-99a8-bf8c3f6f34c9",
   "metadata": {},
   "source": [
    "---\n",
    "## **Project 3: Web APIs and NLP**"
   ]
  },
  {
   "cell_type": "markdown",
   "id": "344352d0-4937-4c31-86ee-9ec4f0921a33",
   "metadata": {},
   "source": [
    "-----\n",
    "### Problem Statement"
   ]
  },
  {
   "cell_type": "markdown",
   "id": "692c92bd-0764-421b-a08e-ce2238a63d8e",
   "metadata": {},
   "source": [
    "How smart can a classification algorithm be?<br>\n",
    "The human mind can understand and process written language quite efficiently.  If given a random blurb with enough words and context, a person can easily guess what the topic is about with a high degree of accuracy.  Can a classification model mimic such prowess?  This project aims to answer that question.<br>\n",
    "In order to do so, different classification models will be built and trained to read randomized text from two different subreddits and then predict what topic is being discussed.  Easy for a person, can the machine beat the person?<br>\n",
    "Various metrics will be used to evaluate each model's performance, with a key focus on misclassification.  The winning model shall be the one with the lowest misclassification rate."
   ]
  },
  {
   "cell_type": "markdown",
   "id": "5ea91705-0b1b-4f02-b377-70914702c7d3",
   "metadata": {},
   "source": [
    "----\n",
    "### Data"
   ]
  },
  {
   "cell_type": "markdown",
   "id": "813428e9-d6fd-4a01-8a21-5eae3d5371b4",
   "metadata": {},
   "source": [
    "There are four datasets available in the data folder, two for each subreddit.  You may consider one dataset as the old version of the data that was collected and the other dataset as the newer version.  The initial data scrapes for both subreddits are missing time stamps, but the textual data contained in them is valuable for this analysis.  The newer versions do have timestamps.  During the data cleaning process they were combined to preserve the text data.  The following is a breakdown of the data files:<br>\n",
    "* `reddit_realestate.csv`:  This data was scraped from the <a href = 'https://www.reddit.com/r/RealEstate/'>real estate subreddit</a>. This dataset **does not** have time stamps.\n",
    "* `reddit--RealEstate.csv`:  This data was scraped from the <a href = 'https://www.reddit.com/r/RealEstate/'>real estate subreddit</a>. This dataset does have time stamps.\n",
    "* `reddit_travel.csv`: This data was scraped from the <a href = 'https://www.reddit.com/r/travel/'>travel subreddit</a>. This dataset **does not** have time stamps.\n",
    "* `reddit--travel.csv`: This data was scraped from the <a href = 'https://www.reddit.com/r/travel/'>travel subreddit</a>. This dataset does have time stamps."
   ]
  },
  {
   "cell_type": "markdown",
   "id": "147a1d0a-f69e-49b3-8606-118cb5af20d3",
   "metadata": {},
   "source": [
    "----\n",
    "### Consulted Sources"
   ]
  },
  {
   "cell_type": "markdown",
   "id": "ac692ada-1c98-4bbd-96b8-38a8f7ce5661",
   "metadata": {},
   "source": [
    "This analysis relies on the data collected from the aforementioned subreddits and on the material learned in class and practiced during labs.  Other than reading documentation and doc strings, no outside sources were needed."
   ]
  },
  {
   "cell_type": "markdown",
   "id": "962c9c22-70f9-4821-a500-2462ade80de1",
   "metadata": {},
   "source": [
    "----\n",
    "### Data Import and Cleaning"
   ]
  },
  {
   "cell_type": "code",
   "execution_count": 11,
   "id": "f0497728-ab70-4d7a-a825-2c3702ac9cd3",
   "metadata": {
    "tags": []
   },
   "outputs": [],
   "source": [
    "# needed libraries for this notebook\n",
    "import numpy as np\n",
    "import pandas as pd"
   ]
  },
  {
   "cell_type": "code",
   "execution_count": 12,
   "id": "62bd8537-c66a-4939-ba21-46433970f242",
   "metadata": {
    "tags": []
   },
   "outputs": [
    {
     "name": "stdout",
     "output_type": "stream",
     "text": [
      "(5198, 5)\n",
      "(1031, 3)\n",
      "**********\n",
      "(4579, 5)\n",
      "(1091, 3)\n"
     ]
    }
   ],
   "source": [
    "# read in files\n",
    "file_path1 = '../data/reddit--RealEstate.csv'\n",
    "file_path1a = '../data/reddit_realestate.csv'\n",
    "\n",
    "file_path2 = '../data/reddit--travel.csv'\n",
    "file_path2a = '../data/reddit_travel.csv'\n",
    "\n",
    "realestate1 = pd.read_csv(file_path1)\n",
    "realestate2 = pd.read_csv(file_path1a)\n",
    "\n",
    "travel1 = pd.read_csv(file_path2)\n",
    "travel2 = pd.read_csv(file_path2a)\n",
    "\n",
    "# check dimensions\n",
    "print(realestate1.shape)\n",
    "print(realestate2.shape)\n",
    "print('*'*10)\n",
    "print(travel1.shape)\n",
    "print(travel2.shape)"
   ]
  },
  {
   "cell_type": "code",
   "execution_count": 13,
   "id": "ad6988a6-edc7-4d6c-bd06-c8e0f26be87b",
   "metadata": {
    "tags": []
   },
   "outputs": [],
   "source": [
    "# append the old dataset to the new dataset\n",
    "realestate = pd.concat([realestate1, realestate2], ignore_index = True, sort = False)\n",
    "travel = pd.concat([travel1, travel2], ignore_index = True, sort = False)"
   ]
  },
  {
   "cell_type": "code",
   "execution_count": 14,
   "id": "301dd345-f072-4cb4-b5e6-bc38b78c9235",
   "metadata": {
    "tags": []
   },
   "outputs": [
    {
     "name": "stdout",
     "output_type": "stream",
     "text": [
      "(6229, 5)\n",
      "(5670, 5)\n"
     ]
    }
   ],
   "source": [
    "print(realestate.shape)\n",
    "print(travel.shape)"
   ]
  },
  {
   "cell_type": "code",
   "execution_count": 15,
   "id": "0097f3db-f6ee-4b7b-b4e2-eed71ae0a657",
   "metadata": {
    "tags": []
   },
   "outputs": [
    {
     "data": {
      "text/html": [
       "<div>\n",
       "<style scoped>\n",
       "    .dataframe tbody tr th:only-of-type {\n",
       "        vertical-align: middle;\n",
       "    }\n",
       "\n",
       "    .dataframe tbody tr th {\n",
       "        vertical-align: top;\n",
       "    }\n",
       "\n",
       "    .dataframe thead th {\n",
       "        text-align: right;\n",
       "    }\n",
       "</style>\n",
       "<table border=\"1\" class=\"dataframe\">\n",
       "  <thead>\n",
       "    <tr style=\"text-align: right;\">\n",
       "      <th></th>\n",
       "      <th>post_id</th>\n",
       "      <th>post_title</th>\n",
       "      <th>post_text</th>\n",
       "      <th>published_on</th>\n",
       "      <th>scraped_on</th>\n",
       "    </tr>\n",
       "  </thead>\n",
       "  <tbody>\n",
       "    <tr>\n",
       "      <th>6226</th>\n",
       "      <td>t3_1fvse4j</td>\n",
       "      <td>Any real estate companies that lets people bui...</td>\n",
       "      <td>I know there will be a lot of building codes a...</td>\n",
       "      <td>NaN</td>\n",
       "      <td>NaN</td>\n",
       "    </tr>\n",
       "    <tr>\n",
       "      <th>6227</th>\n",
       "      <td>t3_1fvdxx7</td>\n",
       "      <td>Buying property previously owned by a church</td>\n",
       "      <td>We are purchasing a home previously owned by a...</td>\n",
       "      <td>NaN</td>\n",
       "      <td>NaN</td>\n",
       "    </tr>\n",
       "    <tr>\n",
       "      <th>6228</th>\n",
       "      <td>t3_1fvzlcy</td>\n",
       "      <td>Air conditioning unit stolen</td>\n",
       "      <td>My realtor went to see a new build for me and ...</td>\n",
       "      <td>NaN</td>\n",
       "      <td>NaN</td>\n",
       "    </tr>\n",
       "  </tbody>\n",
       "</table>\n",
       "</div>"
      ],
      "text/plain": [
       "         post_id                                         post_title  \\\n",
       "6226  t3_1fvse4j  Any real estate companies that lets people bui...   \n",
       "6227  t3_1fvdxx7      Buying property previously owned by a church    \n",
       "6228  t3_1fvzlcy                      Air conditioning unit stolen    \n",
       "\n",
       "                                              post_text  published_on  \\\n",
       "6226  I know there will be a lot of building codes a...           NaN   \n",
       "6227  We are purchasing a home previously owned by a...           NaN   \n",
       "6228  My realtor went to see a new build for me and ...           NaN   \n",
       "\n",
       "     scraped_on  \n",
       "6226        NaN  \n",
       "6227        NaN  \n",
       "6228        NaN  "
      ]
     },
     "execution_count": 15,
     "metadata": {},
     "output_type": "execute_result"
    }
   ],
   "source": [
    "# check last three rows for realestate df\n",
    "realestate.tail(3)"
   ]
  },
  {
   "cell_type": "code",
   "execution_count": 16,
   "id": "976d92c4-ab58-4a3a-88ad-e778eff98377",
   "metadata": {
    "tags": []
   },
   "outputs": [
    {
     "data": {
      "text/html": [
       "<div>\n",
       "<style scoped>\n",
       "    .dataframe tbody tr th:only-of-type {\n",
       "        vertical-align: middle;\n",
       "    }\n",
       "\n",
       "    .dataframe tbody tr th {\n",
       "        vertical-align: top;\n",
       "    }\n",
       "\n",
       "    .dataframe thead th {\n",
       "        text-align: right;\n",
       "    }\n",
       "</style>\n",
       "<table border=\"1\" class=\"dataframe\">\n",
       "  <thead>\n",
       "    <tr style=\"text-align: right;\">\n",
       "      <th></th>\n",
       "      <th>post_id</th>\n",
       "      <th>post_title</th>\n",
       "      <th>post_text</th>\n",
       "      <th>published_on</th>\n",
       "      <th>scraped_on</th>\n",
       "    </tr>\n",
       "  </thead>\n",
       "  <tbody>\n",
       "    <tr>\n",
       "      <th>0</th>\n",
       "      <td>t3_1dzc3zh</td>\n",
       "      <td>All Layover Questions - READ THIS NOTICE</td>\n",
       "      <td>**READ THE NEW LAYOVER FAQ:** [**https://www.r...</td>\n",
       "      <td>1.720556e+09</td>\n",
       "      <td>2024-10-08 10:34:14</td>\n",
       "    </tr>\n",
       "    <tr>\n",
       "      <th>1</th>\n",
       "      <td>t3_1fya9jq</td>\n",
       "      <td>A few favs from Herzegovina</td>\n",
       "      <td>NaN</td>\n",
       "      <td>1.728315e+09</td>\n",
       "      <td>2024-10-08 10:34:14</td>\n",
       "    </tr>\n",
       "    <tr>\n",
       "      <th>2</th>\n",
       "      <td>t3_1fypldc</td>\n",
       "      <td>Missing a flight because you get too comfortab...</td>\n",
       "      <td>Is there a name for this phenomenon?\\n\\nAsking...</td>\n",
       "      <td>1.728355e+09</td>\n",
       "      <td>2024-10-08 10:34:14</td>\n",
       "    </tr>\n",
       "  </tbody>\n",
       "</table>\n",
       "</div>"
      ],
      "text/plain": [
       "      post_id                                         post_title  \\\n",
       "0  t3_1dzc3zh           All Layover Questions - READ THIS NOTICE   \n",
       "1  t3_1fya9jq                        A few favs from Herzegovina   \n",
       "2  t3_1fypldc  Missing a flight because you get too comfortab...   \n",
       "\n",
       "                                           post_text  published_on  \\\n",
       "0  **READ THE NEW LAYOVER FAQ:** [**https://www.r...  1.720556e+09   \n",
       "1                                                NaN  1.728315e+09   \n",
       "2  Is there a name for this phenomenon?\\n\\nAsking...  1.728355e+09   \n",
       "\n",
       "            scraped_on  \n",
       "0  2024-10-08 10:34:14  \n",
       "1  2024-10-08 10:34:14  \n",
       "2  2024-10-08 10:34:14  "
      ]
     },
     "execution_count": 16,
     "metadata": {},
     "output_type": "execute_result"
    }
   ],
   "source": [
    "# check first three rows for travel df\n",
    "travel.head(3)"
   ]
  },
  {
   "cell_type": "markdown",
   "id": "fadbc8fd-1d34-4b7c-9249-c321cd9d412a",
   "metadata": {},
   "source": [
    "Having scraped the data myself, I noticed that the first line on the `travel` dataframe is a general notice for users.  This line will be removed from it, it's not a user's post per se.  In case it might've been duplicated in subsequent scrapes, look for every row where `post_id` is equal to `t3_1dzc3zh`."
   ]
  },
  {
   "cell_type": "code",
   "execution_count": 18,
   "id": "5c395351-1092-4fb6-a04d-13c64b123f4a",
   "metadata": {
    "tags": []
   },
   "outputs": [
    {
     "data": {
      "text/plain": [
       "Index([0, 764, 1528, 2294, 3060, 3821, 4579, 5269], dtype='int64')"
      ]
     },
     "execution_count": 18,
     "metadata": {},
     "output_type": "execute_result"
    }
   ],
   "source": [
    "# remove rows in travel df with post id: t3_1dzc3zh\n",
    "# find the rows first\n",
    "rows_to_remove = travel[travel['post_id'] == 't3_1dzc3zh'].index\n",
    "rows_to_remove"
   ]
  },
  {
   "cell_type": "code",
   "execution_count": 19,
   "id": "6e65e952-c764-49b9-b19e-cf915de25f65",
   "metadata": {
    "tags": []
   },
   "outputs": [],
   "source": [
    "# remove from df\n",
    "travel.drop(index = rows_to_remove, inplace = True)\n",
    "travel.reset_index(drop = True, inplace = True)"
   ]
  },
  {
   "cell_type": "code",
   "execution_count": 20,
   "id": "e9ae86e4-8be0-4f15-8377-9d9e8c9392c3",
   "metadata": {
    "tags": []
   },
   "outputs": [
    {
     "name": "stdout",
     "output_type": "stream",
     "text": [
      "(5662, 5)\n"
     ]
    },
    {
     "data": {
      "text/html": [
       "<div>\n",
       "<style scoped>\n",
       "    .dataframe tbody tr th:only-of-type {\n",
       "        vertical-align: middle;\n",
       "    }\n",
       "\n",
       "    .dataframe tbody tr th {\n",
       "        vertical-align: top;\n",
       "    }\n",
       "\n",
       "    .dataframe thead th {\n",
       "        text-align: right;\n",
       "    }\n",
       "</style>\n",
       "<table border=\"1\" class=\"dataframe\">\n",
       "  <thead>\n",
       "    <tr style=\"text-align: right;\">\n",
       "      <th></th>\n",
       "      <th>post_id</th>\n",
       "      <th>post_title</th>\n",
       "      <th>post_text</th>\n",
       "      <th>published_on</th>\n",
       "      <th>scraped_on</th>\n",
       "    </tr>\n",
       "  </thead>\n",
       "  <tbody>\n",
       "    <tr>\n",
       "      <th>0</th>\n",
       "      <td>t3_1fya9jq</td>\n",
       "      <td>A few favs from Herzegovina</td>\n",
       "      <td>NaN</td>\n",
       "      <td>1.728315e+09</td>\n",
       "      <td>2024-10-08 10:34:14</td>\n",
       "    </tr>\n",
       "    <tr>\n",
       "      <th>1</th>\n",
       "      <td>t3_1fypldc</td>\n",
       "      <td>Missing a flight because you get too comfortab...</td>\n",
       "      <td>Is there a name for this phenomenon?\\n\\nAsking...</td>\n",
       "      <td>1.728355e+09</td>\n",
       "      <td>2024-10-08 10:34:14</td>\n",
       "    </tr>\n",
       "  </tbody>\n",
       "</table>\n",
       "</div>"
      ],
      "text/plain": [
       "      post_id                                         post_title  \\\n",
       "0  t3_1fya9jq                        A few favs from Herzegovina   \n",
       "1  t3_1fypldc  Missing a flight because you get too comfortab...   \n",
       "\n",
       "                                           post_text  published_on  \\\n",
       "0                                                NaN  1.728315e+09   \n",
       "1  Is there a name for this phenomenon?\\n\\nAsking...  1.728355e+09   \n",
       "\n",
       "            scraped_on  \n",
       "0  2024-10-08 10:34:14  \n",
       "1  2024-10-08 10:34:14  "
      ]
     },
     "execution_count": 20,
     "metadata": {},
     "output_type": "execute_result"
    }
   ],
   "source": [
    "# confirm\n",
    "print(travel.shape)\n",
    "travel.head(2)"
   ]
  },
  {
   "cell_type": "markdown",
   "id": "3a4843b2-4d2a-4844-913b-0d9786e75ac3",
   "metadata": {},
   "source": [
    "----\n",
    "**Duplicates**<br>\n",
    "Because the data was scraped at different time intervals, there's a possibility of having duplicate posts.  The first step in cleaning up the data will be to remove any duplicates from both dataframes. This will be accomplished using the `post_id` column."
   ]
  },
  {
   "cell_type": "code",
   "execution_count": 22,
   "id": "13b7dcf7-b5f1-41a9-a0aa-c4b7f7cd330b",
   "metadata": {
    "tags": []
   },
   "outputs": [
    {
     "name": "stdout",
     "output_type": "stream",
     "text": [
      "Number of rows before removing duplicates: 6229\n",
      "Number of rows after removing duplicates: 1098\n"
     ]
    }
   ],
   "source": [
    "# drop duplicates from realestate df\n",
    "print(f'Number of rows before removing duplicates: {realestate.shape[0]}')\n",
    "realestate.drop_duplicates(subset = ['post_id'], inplace = True)\n",
    "print(f'Number of rows after removing duplicates: {realestate.shape[0]}')"
   ]
  },
  {
   "cell_type": "code",
   "execution_count": 23,
   "id": "41ab49cb-d264-4002-836d-9c6c8ae81cd8",
   "metadata": {
    "tags": []
   },
   "outputs": [
    {
     "name": "stdout",
     "output_type": "stream",
     "text": [
      "Number of rows before removing duplicates: 5662\n",
      "Number of rows after removing duplicates: 1162\n"
     ]
    }
   ],
   "source": [
    "# drop duplicates from travel df\n",
    "print(f'Number of rows before removing duplicates: {travel.shape[0]}')\n",
    "travel.drop_duplicates(subset = ['post_id'], inplace = True)\n",
    "print(f'Number of rows after removing duplicates: {travel.shape[0]}')"
   ]
  },
  {
   "cell_type": "markdown",
   "id": "4e79deed-f1ba-485f-9031-121c4e543fbe",
   "metadata": {},
   "source": [
    "---\n",
    "**Missing Values and Data Types**: `realestate`"
   ]
  },
  {
   "cell_type": "code",
   "execution_count": 25,
   "id": "8e24c2c6-f2ea-4739-9f8c-dc720da5cb14",
   "metadata": {
    "tags": []
   },
   "outputs": [
    {
     "data": {
      "text/plain": [
       "post_id           0\n",
       "post_title        0\n",
       "post_text        19\n",
       "published_on    183\n",
       "scraped_on      183\n",
       "dtype: int64"
      ]
     },
     "execution_count": 25,
     "metadata": {},
     "output_type": "execute_result"
    }
   ],
   "source": [
    "realestate.isnull().sum()"
   ]
  },
  {
   "cell_type": "markdown",
   "id": "8c937482-999e-4131-a90c-9c14e6d4e123",
   "metadata": {},
   "source": [
    "The timestamps are not particularly concerning at this juncture as this is a binary classfication task with text data.<br>\n",
    "Only 19 posts have no text besides the title.  These 19 rows can be dropped."
   ]
  },
  {
   "cell_type": "code",
   "execution_count": 27,
   "id": "3dff65a7-0bb6-4e49-a097-6cce4e832648",
   "metadata": {
    "tags": []
   },
   "outputs": [
    {
     "name": "stdout",
     "output_type": "stream",
     "text": [
      "rows before: 1098\n",
      "rows after: 1079\n"
     ]
    }
   ],
   "source": [
    "print(f'rows before: {realestate.shape[0]}')\n",
    "realestate.dropna(subset = ['post_text'], inplace = True)\n",
    "print(f'rows after: {realestate.shape[0]}')"
   ]
  },
  {
   "cell_type": "code",
   "execution_count": 28,
   "id": "5ebb067c-111f-4ee3-91a8-2bc53537459c",
   "metadata": {
    "tags": []
   },
   "outputs": [
    {
     "data": {
      "text/plain": [
       "post_id           0\n",
       "post_title        0\n",
       "post_text         0\n",
       "published_on    178\n",
       "scraped_on      178\n",
       "dtype: int64"
      ]
     },
     "execution_count": 28,
     "metadata": {},
     "output_type": "execute_result"
    }
   ],
   "source": [
    "realestate.isnull().sum()"
   ]
  },
  {
   "cell_type": "markdown",
   "id": "934135c1-84a7-4529-8c5e-bdb93b1efc8d",
   "metadata": {},
   "source": [
    "Looks good.  Check data types below."
   ]
  },
  {
   "cell_type": "code",
   "execution_count": 30,
   "id": "b94731ff-3c34-47bb-a752-c6ea4e74e04c",
   "metadata": {
    "tags": []
   },
   "outputs": [
    {
     "data": {
      "text/plain": [
       "post_id          object\n",
       "post_title       object\n",
       "post_text        object\n",
       "published_on    float64\n",
       "scraped_on       object\n",
       "dtype: object"
      ]
     },
     "execution_count": 30,
     "metadata": {},
     "output_type": "execute_result"
    }
   ],
   "source": [
    "realestate.dtypes"
   ]
  },
  {
   "cell_type": "markdown",
   "id": "0d1a00e6-8bbf-40bc-8322-aa261cb52907",
   "metadata": {},
   "source": [
    "All good!"
   ]
  },
  {
   "cell_type": "markdown",
   "id": "df781c93-bed5-4f5b-9a3a-a1327cc0d89a",
   "metadata": {},
   "source": [
    "---\n",
    "**Missing Values and Data Types**: `travel`"
   ]
  },
  {
   "cell_type": "code",
   "execution_count": 33,
   "id": "7c363191-91f1-4874-88a2-b5d293db6cbf",
   "metadata": {
    "tags": []
   },
   "outputs": [
    {
     "data": {
      "text/plain": [
       "post_id           0\n",
       "post_title        0\n",
       "post_text        15\n",
       "published_on    330\n",
       "scraped_on      330\n",
       "dtype: int64"
      ]
     },
     "execution_count": 33,
     "metadata": {},
     "output_type": "execute_result"
    }
   ],
   "source": [
    "travel.isnull().sum()"
   ]
  },
  {
   "cell_type": "markdown",
   "id": "e23d17e3-4d6e-4e65-9321-315465f6bf4a",
   "metadata": {},
   "source": [
    "Follow same approach as `realestate`"
   ]
  },
  {
   "cell_type": "code",
   "execution_count": 35,
   "id": "5c3c41d2-2c3b-4db0-91ed-1025ca2cfa6e",
   "metadata": {
    "tags": []
   },
   "outputs": [
    {
     "name": "stdout",
     "output_type": "stream",
     "text": [
      "rows before: 1162\n",
      "rows after: 1147\n"
     ]
    }
   ],
   "source": [
    "print(f'rows before: {travel.shape[0]}')\n",
    "travel.dropna(subset = ['post_text'], inplace = True)\n",
    "print(f'rows after: {travel.shape[0]}')"
   ]
  },
  {
   "cell_type": "code",
   "execution_count": 36,
   "id": "fab7e5c9-0169-4419-a515-a5febac84b03",
   "metadata": {
    "tags": []
   },
   "outputs": [
    {
     "data": {
      "text/plain": [
       "post_id           0\n",
       "post_title        0\n",
       "post_text         0\n",
       "published_on    327\n",
       "scraped_on      327\n",
       "dtype: int64"
      ]
     },
     "execution_count": 36,
     "metadata": {},
     "output_type": "execute_result"
    }
   ],
   "source": [
    "travel.isnull().sum()"
   ]
  },
  {
   "cell_type": "code",
   "execution_count": 37,
   "id": "c137840e-30b5-4341-ad50-cc66cd8306f7",
   "metadata": {
    "tags": []
   },
   "outputs": [
    {
     "data": {
      "text/plain": [
       "post_id          object\n",
       "post_title       object\n",
       "post_text        object\n",
       "published_on    float64\n",
       "scraped_on       object\n",
       "dtype: object"
      ]
     },
     "execution_count": 37,
     "metadata": {},
     "output_type": "execute_result"
    }
   ],
   "source": [
    "travel.dtypes"
   ]
  },
  {
   "cell_type": "markdown",
   "id": "79d8b912-34a3-4d82-bc44-ff112bd0e67a",
   "metadata": {},
   "source": [
    "All good!"
   ]
  },
  {
   "cell_type": "markdown",
   "id": "71146d72-3e91-451e-87df-5f636e31fcf9",
   "metadata": {},
   "source": [
    "---\n",
    "**Word counts and post lengths**"
   ]
  },
  {
   "cell_type": "markdown",
   "id": "76e7bbec-c123-4990-b151-837eb2b0cd57",
   "metadata": {},
   "source": [
    "Having numerical data about all this text data may come in handy later on.  New columns will be added to store the length and number of words for each post title and post text."
   ]
  },
  {
   "cell_type": "markdown",
   "id": "0d21396f-e679-4b3f-bcaa-6c7e5b263ea5",
   "metadata": {},
   "source": [
    "---\n",
    "###### _Post Titles Lengths_"
   ]
  },
  {
   "cell_type": "code",
   "execution_count": 42,
   "id": "56c2c3be-5947-4cb2-bb6b-51496425147f",
   "metadata": {},
   "outputs": [],
   "source": [
    "# calculate post title lengths and store in new col\n",
    "realestate['post_title_length'] = realestate['post_title'].map(lambda x: len(x))\n",
    "travel['post_title_length'] = travel['post_title'].map(lambda x: len(x))"
   ]
  },
  {
   "cell_type": "code",
   "execution_count": 43,
   "id": "3634e794-99df-4408-9406-4cbeafd93f53",
   "metadata": {},
   "outputs": [
    {
     "data": {
      "text/html": [
       "<div>\n",
       "<style scoped>\n",
       "    .dataframe tbody tr th:only-of-type {\n",
       "        vertical-align: middle;\n",
       "    }\n",
       "\n",
       "    .dataframe tbody tr th {\n",
       "        vertical-align: top;\n",
       "    }\n",
       "\n",
       "    .dataframe thead th {\n",
       "        text-align: right;\n",
       "    }\n",
       "</style>\n",
       "<table border=\"1\" class=\"dataframe\">\n",
       "  <thead>\n",
       "    <tr style=\"text-align: right;\">\n",
       "      <th></th>\n",
       "      <th>post_id</th>\n",
       "      <th>post_title</th>\n",
       "      <th>post_text</th>\n",
       "      <th>published_on</th>\n",
       "      <th>scraped_on</th>\n",
       "      <th>post_title_length</th>\n",
       "    </tr>\n",
       "  </thead>\n",
       "  <tbody>\n",
       "    <tr>\n",
       "      <th>0</th>\n",
       "      <td>t3_1fybuha</td>\n",
       "      <td>I jointly inherited a property with someone wh...</td>\n",
       "      <td>My mother recently passed away and she had sig...</td>\n",
       "      <td>1.728318e+09</td>\n",
       "      <td>2024-10-08 10:34:06</td>\n",
       "      <td>67</td>\n",
       "    </tr>\n",
       "  </tbody>\n",
       "</table>\n",
       "</div>"
      ],
      "text/plain": [
       "      post_id                                         post_title  \\\n",
       "0  t3_1fybuha  I jointly inherited a property with someone wh...   \n",
       "\n",
       "                                           post_text  published_on  \\\n",
       "0  My mother recently passed away and she had sig...  1.728318e+09   \n",
       "\n",
       "            scraped_on  post_title_length  \n",
       "0  2024-10-08 10:34:06                 67  "
      ]
     },
     "execution_count": 43,
     "metadata": {},
     "output_type": "execute_result"
    }
   ],
   "source": [
    "# confirm realestate df\n",
    "realestate.head(1)"
   ]
  },
  {
   "cell_type": "code",
   "execution_count": 44,
   "id": "27d714a8-ae28-4478-9c56-15bfb3bde197",
   "metadata": {},
   "outputs": [
    {
     "data": {
      "text/html": [
       "<div>\n",
       "<style scoped>\n",
       "    .dataframe tbody tr th:only-of-type {\n",
       "        vertical-align: middle;\n",
       "    }\n",
       "\n",
       "    .dataframe tbody tr th {\n",
       "        vertical-align: top;\n",
       "    }\n",
       "\n",
       "    .dataframe thead th {\n",
       "        text-align: right;\n",
       "    }\n",
       "</style>\n",
       "<table border=\"1\" class=\"dataframe\">\n",
       "  <thead>\n",
       "    <tr style=\"text-align: right;\">\n",
       "      <th></th>\n",
       "      <th>post_id</th>\n",
       "      <th>post_title</th>\n",
       "      <th>post_text</th>\n",
       "      <th>published_on</th>\n",
       "      <th>scraped_on</th>\n",
       "      <th>post_title_length</th>\n",
       "    </tr>\n",
       "  </thead>\n",
       "  <tbody>\n",
       "    <tr>\n",
       "      <th>1</th>\n",
       "      <td>t3_1fypldc</td>\n",
       "      <td>Missing a flight because you get too comfortab...</td>\n",
       "      <td>Is there a name for this phenomenon?\\n\\nAsking...</td>\n",
       "      <td>1.728355e+09</td>\n",
       "      <td>2024-10-08 10:34:14</td>\n",
       "      <td>71</td>\n",
       "    </tr>\n",
       "  </tbody>\n",
       "</table>\n",
       "</div>"
      ],
      "text/plain": [
       "      post_id                                         post_title  \\\n",
       "1  t3_1fypldc  Missing a flight because you get too comfortab...   \n",
       "\n",
       "                                           post_text  published_on  \\\n",
       "1  Is there a name for this phenomenon?\\n\\nAsking...  1.728355e+09   \n",
       "\n",
       "            scraped_on  post_title_length  \n",
       "1  2024-10-08 10:34:14                 71  "
      ]
     },
     "execution_count": 44,
     "metadata": {},
     "output_type": "execute_result"
    }
   ],
   "source": [
    "# confirm travel df\n",
    "travel.head(1)"
   ]
  },
  {
   "cell_type": "markdown",
   "id": "8e31b1c5-89a4-46c1-8faf-7a8699d7838b",
   "metadata": {},
   "source": [
    "---\n",
    "###### _Post Titles Word Counts_"
   ]
  },
  {
   "cell_type": "code",
   "execution_count": 46,
   "id": "2302abd0-d640-4972-93a4-ec70c0319d66",
   "metadata": {},
   "outputs": [],
   "source": [
    "# count words on each title and store in new col\n",
    "realestate['post_title_wc'] = realestate['post_title'].map(lambda x: len(x.split(' ')))\n",
    "travel['post_title_wc'] = travel['post_title'].map(lambda x: len(x.split(' ')))"
   ]
  },
  {
   "cell_type": "code",
   "execution_count": 47,
   "id": "065abcad-1a7e-4521-8e15-9396637f0e25",
   "metadata": {},
   "outputs": [
    {
     "data": {
      "text/html": [
       "<div>\n",
       "<style scoped>\n",
       "    .dataframe tbody tr th:only-of-type {\n",
       "        vertical-align: middle;\n",
       "    }\n",
       "\n",
       "    .dataframe tbody tr th {\n",
       "        vertical-align: top;\n",
       "    }\n",
       "\n",
       "    .dataframe thead th {\n",
       "        text-align: right;\n",
       "    }\n",
       "</style>\n",
       "<table border=\"1\" class=\"dataframe\">\n",
       "  <thead>\n",
       "    <tr style=\"text-align: right;\">\n",
       "      <th></th>\n",
       "      <th>post_id</th>\n",
       "      <th>post_title</th>\n",
       "      <th>post_text</th>\n",
       "      <th>published_on</th>\n",
       "      <th>scraped_on</th>\n",
       "      <th>post_title_length</th>\n",
       "      <th>post_title_wc</th>\n",
       "    </tr>\n",
       "  </thead>\n",
       "  <tbody>\n",
       "    <tr>\n",
       "      <th>0</th>\n",
       "      <td>t3_1fybuha</td>\n",
       "      <td>I jointly inherited a property with someone wh...</td>\n",
       "      <td>My mother recently passed away and she had sig...</td>\n",
       "      <td>1.728318e+09</td>\n",
       "      <td>2024-10-08 10:34:06</td>\n",
       "      <td>67</td>\n",
       "      <td>13</td>\n",
       "    </tr>\n",
       "    <tr>\n",
       "      <th>1</th>\n",
       "      <td>t3_1fymxpq</td>\n",
       "      <td>Talk to me like I’m dumb about buying a house</td>\n",
       "      <td>We took out a 30-year mortgage in 2016 for $19...</td>\n",
       "      <td>1.728347e+09</td>\n",
       "      <td>2024-10-08 10:34:06</td>\n",
       "      <td>46</td>\n",
       "      <td>11</td>\n",
       "    </tr>\n",
       "  </tbody>\n",
       "</table>\n",
       "</div>"
      ],
      "text/plain": [
       "      post_id                                         post_title  \\\n",
       "0  t3_1fybuha  I jointly inherited a property with someone wh...   \n",
       "1  t3_1fymxpq     Talk to me like I’m dumb about buying a house    \n",
       "\n",
       "                                           post_text  published_on  \\\n",
       "0  My mother recently passed away and she had sig...  1.728318e+09   \n",
       "1  We took out a 30-year mortgage in 2016 for $19...  1.728347e+09   \n",
       "\n",
       "            scraped_on  post_title_length  post_title_wc  \n",
       "0  2024-10-08 10:34:06                 67             13  \n",
       "1  2024-10-08 10:34:06                 46             11  "
      ]
     },
     "execution_count": 47,
     "metadata": {},
     "output_type": "execute_result"
    }
   ],
   "source": [
    "# confirm realestate df\n",
    "realestate.head(2)"
   ]
  },
  {
   "cell_type": "code",
   "execution_count": 48,
   "id": "05ec7562-076c-437c-a8fe-beac00670e34",
   "metadata": {},
   "outputs": [
    {
     "data": {
      "text/html": [
       "<div>\n",
       "<style scoped>\n",
       "    .dataframe tbody tr th:only-of-type {\n",
       "        vertical-align: middle;\n",
       "    }\n",
       "\n",
       "    .dataframe tbody tr th {\n",
       "        vertical-align: top;\n",
       "    }\n",
       "\n",
       "    .dataframe thead th {\n",
       "        text-align: right;\n",
       "    }\n",
       "</style>\n",
       "<table border=\"1\" class=\"dataframe\">\n",
       "  <thead>\n",
       "    <tr style=\"text-align: right;\">\n",
       "      <th></th>\n",
       "      <th>post_id</th>\n",
       "      <th>post_title</th>\n",
       "      <th>post_text</th>\n",
       "      <th>published_on</th>\n",
       "      <th>scraped_on</th>\n",
       "      <th>post_title_length</th>\n",
       "      <th>post_title_wc</th>\n",
       "    </tr>\n",
       "  </thead>\n",
       "  <tbody>\n",
       "    <tr>\n",
       "      <th>1</th>\n",
       "      <td>t3_1fypldc</td>\n",
       "      <td>Missing a flight because you get too comfortab...</td>\n",
       "      <td>Is there a name for this phenomenon?\\n\\nAsking...</td>\n",
       "      <td>1.728355e+09</td>\n",
       "      <td>2024-10-08 10:34:14</td>\n",
       "      <td>71</td>\n",
       "      <td>13</td>\n",
       "    </tr>\n",
       "    <tr>\n",
       "      <th>2</th>\n",
       "      <td>t3_1fy6r62</td>\n",
       "      <td>A week's long trip to Iceland, September 2024</td>\n",
       "      <td>For a while now I wanted to go to Iceland, and...</td>\n",
       "      <td>1.728305e+09</td>\n",
       "      <td>2024-10-08 10:34:14</td>\n",
       "      <td>45</td>\n",
       "      <td>8</td>\n",
       "    </tr>\n",
       "  </tbody>\n",
       "</table>\n",
       "</div>"
      ],
      "text/plain": [
       "      post_id                                         post_title  \\\n",
       "1  t3_1fypldc  Missing a flight because you get too comfortab...   \n",
       "2  t3_1fy6r62      A week's long trip to Iceland, September 2024   \n",
       "\n",
       "                                           post_text  published_on  \\\n",
       "1  Is there a name for this phenomenon?\\n\\nAsking...  1.728355e+09   \n",
       "2  For a while now I wanted to go to Iceland, and...  1.728305e+09   \n",
       "\n",
       "            scraped_on  post_title_length  post_title_wc  \n",
       "1  2024-10-08 10:34:14                 71             13  \n",
       "2  2024-10-08 10:34:14                 45              8  "
      ]
     },
     "execution_count": 48,
     "metadata": {},
     "output_type": "execute_result"
    }
   ],
   "source": [
    "# confirm travel df\n",
    "travel.head(2)"
   ]
  },
  {
   "cell_type": "markdown",
   "id": "b676926b-9386-4c25-9ff9-a6cea32a0a1f",
   "metadata": {},
   "source": [
    "---\n",
    "###### _Post Text Lengths_"
   ]
  },
  {
   "cell_type": "code",
   "execution_count": 50,
   "id": "6d51ed51-a22e-4f2f-a4df-417c78e951ff",
   "metadata": {},
   "outputs": [],
   "source": [
    "# calculate post text lengths and store in new col\n",
    "realestate['post_text_length'] = realestate['post_text'].map(lambda x: len(x))\n",
    "travel['post_text_length'] = travel['post_text'].map(lambda x: len(x))"
   ]
  },
  {
   "cell_type": "code",
   "execution_count": 51,
   "id": "0627990b-cd06-4e81-ae67-9183b9402d96",
   "metadata": {
    "tags": []
   },
   "outputs": [
    {
     "data": {
      "text/html": [
       "<div>\n",
       "<style scoped>\n",
       "    .dataframe tbody tr th:only-of-type {\n",
       "        vertical-align: middle;\n",
       "    }\n",
       "\n",
       "    .dataframe tbody tr th {\n",
       "        vertical-align: top;\n",
       "    }\n",
       "\n",
       "    .dataframe thead th {\n",
       "        text-align: right;\n",
       "    }\n",
       "</style>\n",
       "<table border=\"1\" class=\"dataframe\">\n",
       "  <thead>\n",
       "    <tr style=\"text-align: right;\">\n",
       "      <th></th>\n",
       "      <th>post_id</th>\n",
       "      <th>post_title</th>\n",
       "      <th>post_text</th>\n",
       "      <th>published_on</th>\n",
       "      <th>scraped_on</th>\n",
       "      <th>post_title_length</th>\n",
       "      <th>post_title_wc</th>\n",
       "      <th>post_text_length</th>\n",
       "    </tr>\n",
       "  </thead>\n",
       "  <tbody>\n",
       "    <tr>\n",
       "      <th>6032</th>\n",
       "      <td>t3_1fxh31c</td>\n",
       "      <td>Closing on a house on Monday, getting hit by a...</td>\n",
       "      <td>First time homebuyer here closing on my house ...</td>\n",
       "      <td>NaN</td>\n",
       "      <td>NaN</td>\n",
       "      <td>76</td>\n",
       "      <td>14</td>\n",
       "      <td>493</td>\n",
       "    </tr>\n",
       "    <tr>\n",
       "      <th>6089</th>\n",
       "      <td>t3_1fxuh8x</td>\n",
       "      <td>Am I allowed to say no to open houses and show...</td>\n",
       "      <td>I recently found out that my landlord will be ...</td>\n",
       "      <td>NaN</td>\n",
       "      <td>NaN</td>\n",
       "      <td>51</td>\n",
       "      <td>11</td>\n",
       "      <td>932</td>\n",
       "    </tr>\n",
       "  </tbody>\n",
       "</table>\n",
       "</div>"
      ],
      "text/plain": [
       "         post_id                                         post_title  \\\n",
       "6032  t3_1fxh31c  Closing on a house on Monday, getting hit by a...   \n",
       "6089  t3_1fxuh8x  Am I allowed to say no to open houses and show...   \n",
       "\n",
       "                                              post_text  published_on  \\\n",
       "6032  First time homebuyer here closing on my house ...           NaN   \n",
       "6089  I recently found out that my landlord will be ...           NaN   \n",
       "\n",
       "     scraped_on  post_title_length  post_title_wc  post_text_length  \n",
       "6032        NaN                 76             14               493  \n",
       "6089        NaN                 51             11               932  "
      ]
     },
     "execution_count": 51,
     "metadata": {},
     "output_type": "execute_result"
    }
   ],
   "source": [
    "# confirm realestate df\n",
    "realestate.tail(2)"
   ]
  },
  {
   "cell_type": "code",
   "execution_count": 52,
   "id": "229033b1-37dc-41ad-904f-d07bcb23b88e",
   "metadata": {
    "tags": []
   },
   "outputs": [
    {
     "data": {
      "text/html": [
       "<div>\n",
       "<style scoped>\n",
       "    .dataframe tbody tr th:only-of-type {\n",
       "        vertical-align: middle;\n",
       "    }\n",
       "\n",
       "    .dataframe tbody tr th {\n",
       "        vertical-align: top;\n",
       "    }\n",
       "\n",
       "    .dataframe thead th {\n",
       "        text-align: right;\n",
       "    }\n",
       "</style>\n",
       "<table border=\"1\" class=\"dataframe\">\n",
       "  <thead>\n",
       "    <tr style=\"text-align: right;\">\n",
       "      <th></th>\n",
       "      <th>post_id</th>\n",
       "      <th>post_title</th>\n",
       "      <th>post_text</th>\n",
       "      <th>published_on</th>\n",
       "      <th>scraped_on</th>\n",
       "      <th>post_title_length</th>\n",
       "      <th>post_title_wc</th>\n",
       "      <th>post_text_length</th>\n",
       "    </tr>\n",
       "  </thead>\n",
       "  <tbody>\n",
       "    <tr>\n",
       "      <th>5418</th>\n",
       "      <td>t3_1fxez6r</td>\n",
       "      <td>I'm from a developing country and have no inte...</td>\n",
       "      <td>I am from the Philippines but already migrated...</td>\n",
       "      <td>NaN</td>\n",
       "      <td>NaN</td>\n",
       "      <td>115</td>\n",
       "      <td>20</td>\n",
       "      <td>1035</td>\n",
       "    </tr>\n",
       "    <tr>\n",
       "      <th>5487</th>\n",
       "      <td>t3_1fwbn1o</td>\n",
       "      <td>Iceland for new years eve advice</td>\n",
       "      <td>Hello all. Recently decided to go solo travell...</td>\n",
       "      <td>NaN</td>\n",
       "      <td>NaN</td>\n",
       "      <td>32</td>\n",
       "      <td>6</td>\n",
       "      <td>611</td>\n",
       "    </tr>\n",
       "  </tbody>\n",
       "</table>\n",
       "</div>"
      ],
      "text/plain": [
       "         post_id                                         post_title  \\\n",
       "5418  t3_1fxez6r  I'm from a developing country and have no inte...   \n",
       "5487  t3_1fwbn1o                   Iceland for new years eve advice   \n",
       "\n",
       "                                              post_text  published_on  \\\n",
       "5418  I am from the Philippines but already migrated...           NaN   \n",
       "5487  Hello all. Recently decided to go solo travell...           NaN   \n",
       "\n",
       "     scraped_on  post_title_length  post_title_wc  post_text_length  \n",
       "5418        NaN                115             20              1035  \n",
       "5487        NaN                 32              6               611  "
      ]
     },
     "execution_count": 52,
     "metadata": {},
     "output_type": "execute_result"
    }
   ],
   "source": [
    "# confirm travel df\n",
    "travel.tail(2)"
   ]
  },
  {
   "cell_type": "markdown",
   "id": "ab90d48a-cb47-4979-8fb0-b929d8f512f1",
   "metadata": {},
   "source": [
    "---\n",
    "###### _Post Text Word Counts_"
   ]
  },
  {
   "cell_type": "code",
   "execution_count": 54,
   "id": "85035c55-21aa-4bab-b38b-7e71506265eb",
   "metadata": {
    "tags": []
   },
   "outputs": [],
   "source": [
    "# count words on each title and store in new col\n",
    "realestate['post_text_wc'] = realestate['post_text'].map(lambda x: len(x.split(' ')))\n",
    "travel['post_text_wc'] = travel['post_text'].map(lambda x: len(x.split(' ')))"
   ]
  },
  {
   "cell_type": "code",
   "execution_count": 55,
   "id": "8cc9a6b0-a9b0-4ea7-bb44-2067bd2655e7",
   "metadata": {
    "tags": []
   },
   "outputs": [
    {
     "data": {
      "text/html": [
       "<div>\n",
       "<style scoped>\n",
       "    .dataframe tbody tr th:only-of-type {\n",
       "        vertical-align: middle;\n",
       "    }\n",
       "\n",
       "    .dataframe tbody tr th {\n",
       "        vertical-align: top;\n",
       "    }\n",
       "\n",
       "    .dataframe thead th {\n",
       "        text-align: right;\n",
       "    }\n",
       "</style>\n",
       "<table border=\"1\" class=\"dataframe\">\n",
       "  <thead>\n",
       "    <tr style=\"text-align: right;\">\n",
       "      <th></th>\n",
       "      <th>post_id</th>\n",
       "      <th>post_title</th>\n",
       "      <th>post_text</th>\n",
       "      <th>published_on</th>\n",
       "      <th>scraped_on</th>\n",
       "      <th>post_title_length</th>\n",
       "      <th>post_title_wc</th>\n",
       "      <th>post_text_length</th>\n",
       "      <th>post_text_wc</th>\n",
       "    </tr>\n",
       "  </thead>\n",
       "  <tbody>\n",
       "    <tr>\n",
       "      <th>6032</th>\n",
       "      <td>t3_1fxh31c</td>\n",
       "      <td>Closing on a house on Monday, getting hit by a...</td>\n",
       "      <td>First time homebuyer here closing on my house ...</td>\n",
       "      <td>NaN</td>\n",
       "      <td>NaN</td>\n",
       "      <td>76</td>\n",
       "      <td>14</td>\n",
       "      <td>493</td>\n",
       "      <td>87</td>\n",
       "    </tr>\n",
       "    <tr>\n",
       "      <th>6089</th>\n",
       "      <td>t3_1fxuh8x</td>\n",
       "      <td>Am I allowed to say no to open houses and show...</td>\n",
       "      <td>I recently found out that my landlord will be ...</td>\n",
       "      <td>NaN</td>\n",
       "      <td>NaN</td>\n",
       "      <td>51</td>\n",
       "      <td>11</td>\n",
       "      <td>932</td>\n",
       "      <td>194</td>\n",
       "    </tr>\n",
       "  </tbody>\n",
       "</table>\n",
       "</div>"
      ],
      "text/plain": [
       "         post_id                                         post_title  \\\n",
       "6032  t3_1fxh31c  Closing on a house on Monday, getting hit by a...   \n",
       "6089  t3_1fxuh8x  Am I allowed to say no to open houses and show...   \n",
       "\n",
       "                                              post_text  published_on  \\\n",
       "6032  First time homebuyer here closing on my house ...           NaN   \n",
       "6089  I recently found out that my landlord will be ...           NaN   \n",
       "\n",
       "     scraped_on  post_title_length  post_title_wc  post_text_length  \\\n",
       "6032        NaN                 76             14               493   \n",
       "6089        NaN                 51             11               932   \n",
       "\n",
       "      post_text_wc  \n",
       "6032            87  \n",
       "6089           194  "
      ]
     },
     "execution_count": 55,
     "metadata": {},
     "output_type": "execute_result"
    }
   ],
   "source": [
    "# confirm realestate df\n",
    "realestate.tail(2)"
   ]
  },
  {
   "cell_type": "code",
   "execution_count": 56,
   "id": "688eb14b-74a0-4a35-bc86-23c44d1afc19",
   "metadata": {
    "tags": []
   },
   "outputs": [
    {
     "data": {
      "text/html": [
       "<div>\n",
       "<style scoped>\n",
       "    .dataframe tbody tr th:only-of-type {\n",
       "        vertical-align: middle;\n",
       "    }\n",
       "\n",
       "    .dataframe tbody tr th {\n",
       "        vertical-align: top;\n",
       "    }\n",
       "\n",
       "    .dataframe thead th {\n",
       "        text-align: right;\n",
       "    }\n",
       "</style>\n",
       "<table border=\"1\" class=\"dataframe\">\n",
       "  <thead>\n",
       "    <tr style=\"text-align: right;\">\n",
       "      <th></th>\n",
       "      <th>post_id</th>\n",
       "      <th>post_title</th>\n",
       "      <th>post_text</th>\n",
       "      <th>published_on</th>\n",
       "      <th>scraped_on</th>\n",
       "      <th>post_title_length</th>\n",
       "      <th>post_title_wc</th>\n",
       "      <th>post_text_length</th>\n",
       "      <th>post_text_wc</th>\n",
       "    </tr>\n",
       "  </thead>\n",
       "  <tbody>\n",
       "    <tr>\n",
       "      <th>5418</th>\n",
       "      <td>t3_1fxez6r</td>\n",
       "      <td>I'm from a developing country and have no inte...</td>\n",
       "      <td>I am from the Philippines but already migrated...</td>\n",
       "      <td>NaN</td>\n",
       "      <td>NaN</td>\n",
       "      <td>115</td>\n",
       "      <td>20</td>\n",
       "      <td>1035</td>\n",
       "      <td>178</td>\n",
       "    </tr>\n",
       "    <tr>\n",
       "      <th>5487</th>\n",
       "      <td>t3_1fwbn1o</td>\n",
       "      <td>Iceland for new years eve advice</td>\n",
       "      <td>Hello all. Recently decided to go solo travell...</td>\n",
       "      <td>NaN</td>\n",
       "      <td>NaN</td>\n",
       "      <td>32</td>\n",
       "      <td>6</td>\n",
       "      <td>611</td>\n",
       "      <td>118</td>\n",
       "    </tr>\n",
       "  </tbody>\n",
       "</table>\n",
       "</div>"
      ],
      "text/plain": [
       "         post_id                                         post_title  \\\n",
       "5418  t3_1fxez6r  I'm from a developing country and have no inte...   \n",
       "5487  t3_1fwbn1o                   Iceland for new years eve advice   \n",
       "\n",
       "                                              post_text  published_on  \\\n",
       "5418  I am from the Philippines but already migrated...           NaN   \n",
       "5487  Hello all. Recently decided to go solo travell...           NaN   \n",
       "\n",
       "     scraped_on  post_title_length  post_title_wc  post_text_length  \\\n",
       "5418        NaN                115             20              1035   \n",
       "5487        NaN                 32              6               611   \n",
       "\n",
       "      post_text_wc  \n",
       "5418           178  \n",
       "5487           118  "
      ]
     },
     "execution_count": 56,
     "metadata": {},
     "output_type": "execute_result"
    }
   ],
   "source": [
    "# confirm travel df\n",
    "travel.tail(2)"
   ]
  },
  {
   "cell_type": "markdown",
   "id": "1d5ace55-0313-4a32-b540-b877720f49c8",
   "metadata": {},
   "source": [
    "New columns with post title/text lengths and word counts have been successfully added to the dataframes."
   ]
  },
  {
   "cell_type": "markdown",
   "id": "e967d118-c08a-4c49-8660-347bc9701042",
   "metadata": {},
   "source": [
    "----\n",
    "**Merge Dataframes and Create Target Column**"
   ]
  },
  {
   "cell_type": "markdown",
   "id": "27c02142-c41b-4fd7-9ef5-c20a914db3ba",
   "metadata": {},
   "source": [
    "Since the task at hand is to build a binary classification model that predicts which subreddit (`travel` or `realestate`) a post comes from, both datasets will be merged into one.<br>\n",
    "First, though, another column will be appended to each one (`topic`).  This column will have all `0s` for the `realestate` dataframe, and all `1s` for the `travel` dataframe.<br>\n",
    "Once they are merged, this column will serve as the binary classification target for the combined dataframe, where rows in which `topic` is equal to `0` being Real Estate posts, and where rows in which `topic` is equal to `1` being Travel posts."
   ]
  },
  {
   "cell_type": "code",
   "execution_count": 60,
   "id": "7eee0f84-0dd6-4acc-88f0-8e67f077fa38",
   "metadata": {
    "tags": []
   },
   "outputs": [],
   "source": [
    "# add topic col to both DFs\n",
    "realestate['topic'] = 0\n",
    "travel['topic'] = 1"
   ]
  },
  {
   "cell_type": "code",
   "execution_count": 61,
   "id": "4cd9d246-191d-4f50-b593-0081ea80e258",
   "metadata": {
    "tags": []
   },
   "outputs": [
    {
     "name": "stdout",
     "output_type": "stream",
     "text": [
      "(1079, 10)\n"
     ]
    },
    {
     "data": {
      "text/html": [
       "<div>\n",
       "<style scoped>\n",
       "    .dataframe tbody tr th:only-of-type {\n",
       "        vertical-align: middle;\n",
       "    }\n",
       "\n",
       "    .dataframe tbody tr th {\n",
       "        vertical-align: top;\n",
       "    }\n",
       "\n",
       "    .dataframe thead th {\n",
       "        text-align: right;\n",
       "    }\n",
       "</style>\n",
       "<table border=\"1\" class=\"dataframe\">\n",
       "  <thead>\n",
       "    <tr style=\"text-align: right;\">\n",
       "      <th></th>\n",
       "      <th>post_id</th>\n",
       "      <th>post_title</th>\n",
       "      <th>post_text</th>\n",
       "      <th>published_on</th>\n",
       "      <th>scraped_on</th>\n",
       "      <th>post_title_length</th>\n",
       "      <th>post_title_wc</th>\n",
       "      <th>post_text_length</th>\n",
       "      <th>post_text_wc</th>\n",
       "      <th>topic</th>\n",
       "    </tr>\n",
       "  </thead>\n",
       "  <tbody>\n",
       "    <tr>\n",
       "      <th>0</th>\n",
       "      <td>t3_1fybuha</td>\n",
       "      <td>I jointly inherited a property with someone wh...</td>\n",
       "      <td>My mother recently passed away and she had sig...</td>\n",
       "      <td>1.728318e+09</td>\n",
       "      <td>2024-10-08 10:34:06</td>\n",
       "      <td>67</td>\n",
       "      <td>13</td>\n",
       "      <td>852</td>\n",
       "      <td>168</td>\n",
       "      <td>0</td>\n",
       "    </tr>\n",
       "    <tr>\n",
       "      <th>1</th>\n",
       "      <td>t3_1fymxpq</td>\n",
       "      <td>Talk to me like I’m dumb about buying a house</td>\n",
       "      <td>We took out a 30-year mortgage in 2016 for $19...</td>\n",
       "      <td>1.728347e+09</td>\n",
       "      <td>2024-10-08 10:34:06</td>\n",
       "      <td>46</td>\n",
       "      <td>11</td>\n",
       "      <td>768</td>\n",
       "      <td>146</td>\n",
       "      <td>0</td>\n",
       "    </tr>\n",
       "  </tbody>\n",
       "</table>\n",
       "</div>"
      ],
      "text/plain": [
       "      post_id                                         post_title  \\\n",
       "0  t3_1fybuha  I jointly inherited a property with someone wh...   \n",
       "1  t3_1fymxpq     Talk to me like I’m dumb about buying a house    \n",
       "\n",
       "                                           post_text  published_on  \\\n",
       "0  My mother recently passed away and she had sig...  1.728318e+09   \n",
       "1  We took out a 30-year mortgage in 2016 for $19...  1.728347e+09   \n",
       "\n",
       "            scraped_on  post_title_length  post_title_wc  post_text_length  \\\n",
       "0  2024-10-08 10:34:06                 67             13               852   \n",
       "1  2024-10-08 10:34:06                 46             11               768   \n",
       "\n",
       "   post_text_wc  topic  \n",
       "0           168      0  \n",
       "1           146      0  "
      ]
     },
     "execution_count": 61,
     "metadata": {},
     "output_type": "execute_result"
    }
   ],
   "source": [
    "# confirm realestate DF\n",
    "print(realestate.shape)\n",
    "realestate.head(2)"
   ]
  },
  {
   "cell_type": "code",
   "execution_count": 62,
   "id": "199b604d-527c-4e34-9cbe-8c22977169b6",
   "metadata": {
    "tags": []
   },
   "outputs": [
    {
     "name": "stdout",
     "output_type": "stream",
     "text": [
      "(1147, 10)\n"
     ]
    },
    {
     "data": {
      "text/html": [
       "<div>\n",
       "<style scoped>\n",
       "    .dataframe tbody tr th:only-of-type {\n",
       "        vertical-align: middle;\n",
       "    }\n",
       "\n",
       "    .dataframe tbody tr th {\n",
       "        vertical-align: top;\n",
       "    }\n",
       "\n",
       "    .dataframe thead th {\n",
       "        text-align: right;\n",
       "    }\n",
       "</style>\n",
       "<table border=\"1\" class=\"dataframe\">\n",
       "  <thead>\n",
       "    <tr style=\"text-align: right;\">\n",
       "      <th></th>\n",
       "      <th>post_id</th>\n",
       "      <th>post_title</th>\n",
       "      <th>post_text</th>\n",
       "      <th>published_on</th>\n",
       "      <th>scraped_on</th>\n",
       "      <th>post_title_length</th>\n",
       "      <th>post_title_wc</th>\n",
       "      <th>post_text_length</th>\n",
       "      <th>post_text_wc</th>\n",
       "      <th>topic</th>\n",
       "    </tr>\n",
       "  </thead>\n",
       "  <tbody>\n",
       "    <tr>\n",
       "      <th>5418</th>\n",
       "      <td>t3_1fxez6r</td>\n",
       "      <td>I'm from a developing country and have no inte...</td>\n",
       "      <td>I am from the Philippines but already migrated...</td>\n",
       "      <td>NaN</td>\n",
       "      <td>NaN</td>\n",
       "      <td>115</td>\n",
       "      <td>20</td>\n",
       "      <td>1035</td>\n",
       "      <td>178</td>\n",
       "      <td>1</td>\n",
       "    </tr>\n",
       "    <tr>\n",
       "      <th>5487</th>\n",
       "      <td>t3_1fwbn1o</td>\n",
       "      <td>Iceland for new years eve advice</td>\n",
       "      <td>Hello all. Recently decided to go solo travell...</td>\n",
       "      <td>NaN</td>\n",
       "      <td>NaN</td>\n",
       "      <td>32</td>\n",
       "      <td>6</td>\n",
       "      <td>611</td>\n",
       "      <td>118</td>\n",
       "      <td>1</td>\n",
       "    </tr>\n",
       "  </tbody>\n",
       "</table>\n",
       "</div>"
      ],
      "text/plain": [
       "         post_id                                         post_title  \\\n",
       "5418  t3_1fxez6r  I'm from a developing country and have no inte...   \n",
       "5487  t3_1fwbn1o                   Iceland for new years eve advice   \n",
       "\n",
       "                                              post_text  published_on  \\\n",
       "5418  I am from the Philippines but already migrated...           NaN   \n",
       "5487  Hello all. Recently decided to go solo travell...           NaN   \n",
       "\n",
       "     scraped_on  post_title_length  post_title_wc  post_text_length  \\\n",
       "5418        NaN                115             20              1035   \n",
       "5487        NaN                 32              6               611   \n",
       "\n",
       "      post_text_wc  topic  \n",
       "5418           178      1  \n",
       "5487           118      1  "
      ]
     },
     "execution_count": 62,
     "metadata": {},
     "output_type": "execute_result"
    }
   ],
   "source": [
    "# confirm travel DF\n",
    "print(travel.shape)\n",
    "travel.tail(2)"
   ]
  },
  {
   "cell_type": "code",
   "execution_count": 63,
   "id": "08a75690-b058-42a8-9763-b280d305a3a1",
   "metadata": {
    "tags": []
   },
   "outputs": [
    {
     "data": {
      "text/plain": [
       "(2226, 10)"
      ]
     },
     "execution_count": 63,
     "metadata": {},
     "output_type": "execute_result"
    }
   ],
   "source": [
    "# merge DFs\n",
    "reddit = pd.concat([realestate, travel], ignore_index = True)\n",
    "\n",
    "# confirm shape\n",
    "reddit.shape"
   ]
  },
  {
   "cell_type": "markdown",
   "id": "51445f71-76c7-43ae-8552-942075531879",
   "metadata": {},
   "source": [
    "Both dataframes have been merged, but the top half of the rows belong to `realestate`, whereas the bottom half rows belong to `travel`. Let's shuffle the rows in order to create a random order and mimic unseen data."
   ]
  },
  {
   "cell_type": "code",
   "execution_count": 65,
   "id": "36a4f259-3199-4145-94fd-14f4ea765ade",
   "metadata": {
    "tags": []
   },
   "outputs": [],
   "source": [
    "# shuffle rows in new DF\n",
    "# source: https://stackoverflow.com/questions/29576430/shuffle-dataframe-rows\n",
    "reddit = reddit.sample(frac = 1).reset_index(drop = True)"
   ]
  },
  {
   "cell_type": "code",
   "execution_count": 66,
   "id": "1c5f8716-e078-46c9-a14d-438ed6d64798",
   "metadata": {
    "tags": []
   },
   "outputs": [
    {
     "data": {
      "text/html": [
       "<div>\n",
       "<style scoped>\n",
       "    .dataframe tbody tr th:only-of-type {\n",
       "        vertical-align: middle;\n",
       "    }\n",
       "\n",
       "    .dataframe tbody tr th {\n",
       "        vertical-align: top;\n",
       "    }\n",
       "\n",
       "    .dataframe thead th {\n",
       "        text-align: right;\n",
       "    }\n",
       "</style>\n",
       "<table border=\"1\" class=\"dataframe\">\n",
       "  <thead>\n",
       "    <tr style=\"text-align: right;\">\n",
       "      <th></th>\n",
       "      <th>post_id</th>\n",
       "      <th>post_title</th>\n",
       "      <th>post_text</th>\n",
       "      <th>published_on</th>\n",
       "      <th>scraped_on</th>\n",
       "      <th>post_title_length</th>\n",
       "      <th>post_title_wc</th>\n",
       "      <th>post_text_length</th>\n",
       "      <th>post_text_wc</th>\n",
       "      <th>topic</th>\n",
       "    </tr>\n",
       "  </thead>\n",
       "  <tbody>\n",
       "    <tr>\n",
       "      <th>501</th>\n",
       "      <td>t3_1fw3r80</td>\n",
       "      <td>Brussels - is it as bad as they say? Has anyon...</td>\n",
       "      <td>So looking to travel to Europe as an American ...</td>\n",
       "      <td>1.728060e+09</td>\n",
       "      <td>2024-10-08 10:34:16</td>\n",
       "      <td>59</td>\n",
       "      <td>13</td>\n",
       "      <td>2983</td>\n",
       "      <td>523</td>\n",
       "      <td>1</td>\n",
       "    </tr>\n",
       "    <tr>\n",
       "      <th>502</th>\n",
       "      <td>t3_1fy4rhm</td>\n",
       "      <td>Advice on travel itinerary - SEA + LatAm</td>\n",
       "      <td>Hi all,\\n\\nMy partner and I are planning a 5-6...</td>\n",
       "      <td>1.728298e+09</td>\n",
       "      <td>2024-10-08 10:34:15</td>\n",
       "      <td>40</td>\n",
       "      <td>8</td>\n",
       "      <td>1516</td>\n",
       "      <td>285</td>\n",
       "      <td>1</td>\n",
       "    </tr>\n",
       "    <tr>\n",
       "      <th>503</th>\n",
       "      <td>t3_1fz1li1</td>\n",
       "      <td>Travel to Laos and Thailand</td>\n",
       "      <td>I am traveling to Laos and Thailand for the fi...</td>\n",
       "      <td>1.728399e+09</td>\n",
       "      <td>2024-10-08 12:04:37</td>\n",
       "      <td>27</td>\n",
       "      <td>5</td>\n",
       "      <td>508</td>\n",
       "      <td>98</td>\n",
       "      <td>1</td>\n",
       "    </tr>\n",
       "    <tr>\n",
       "      <th>504</th>\n",
       "      <td>t3_1fq3f3o</td>\n",
       "      <td>Connecting through Singapore Changi. Diff airl...</td>\n",
       "      <td>Hello friends, \\n\\nI looked through the layove...</td>\n",
       "      <td>NaN</td>\n",
       "      <td>NaN</td>\n",
       "      <td>117</td>\n",
       "      <td>18</td>\n",
       "      <td>1131</td>\n",
       "      <td>211</td>\n",
       "      <td>1</td>\n",
       "    </tr>\n",
       "    <tr>\n",
       "      <th>505</th>\n",
       "      <td>t3_1fqrctd</td>\n",
       "      <td>Visas with an emergency passport</td>\n",
       "      <td>I am currently in Madagascar and will soon be ...</td>\n",
       "      <td>NaN</td>\n",
       "      <td>NaN</td>\n",
       "      <td>33</td>\n",
       "      <td>6</td>\n",
       "      <td>649</td>\n",
       "      <td>129</td>\n",
       "      <td>1</td>\n",
       "    </tr>\n",
       "  </tbody>\n",
       "</table>\n",
       "</div>"
      ],
      "text/plain": [
       "        post_id                                         post_title  \\\n",
       "501  t3_1fw3r80  Brussels - is it as bad as they say? Has anyon...   \n",
       "502  t3_1fy4rhm           Advice on travel itinerary - SEA + LatAm   \n",
       "503  t3_1fz1li1                        Travel to Laos and Thailand   \n",
       "504  t3_1fq3f3o  Connecting through Singapore Changi. Diff airl...   \n",
       "505  t3_1fqrctd                  Visas with an emergency passport    \n",
       "\n",
       "                                             post_text  published_on  \\\n",
       "501  So looking to travel to Europe as an American ...  1.728060e+09   \n",
       "502  Hi all,\\n\\nMy partner and I are planning a 5-6...  1.728298e+09   \n",
       "503  I am traveling to Laos and Thailand for the fi...  1.728399e+09   \n",
       "504  Hello friends, \\n\\nI looked through the layove...           NaN   \n",
       "505  I am currently in Madagascar and will soon be ...           NaN   \n",
       "\n",
       "              scraped_on  post_title_length  post_title_wc  post_text_length  \\\n",
       "501  2024-10-08 10:34:16                 59             13              2983   \n",
       "502  2024-10-08 10:34:15                 40              8              1516   \n",
       "503  2024-10-08 12:04:37                 27              5               508   \n",
       "504                  NaN                117             18              1131   \n",
       "505                  NaN                 33              6               649   \n",
       "\n",
       "     post_text_wc  topic  \n",
       "501           523      1  \n",
       "502           285      1  \n",
       "503            98      1  \n",
       "504           211      1  \n",
       "505           129      1  "
      ]
     },
     "execution_count": 66,
     "metadata": {},
     "output_type": "execute_result"
    }
   ],
   "source": [
    "# take a look at a sample slice\n",
    "reddit.loc[501:505,:]"
   ]
  },
  {
   "cell_type": "markdown",
   "id": "7dbd9314-eff6-45de-a7c5-c4929d3acee3",
   "metadata": {},
   "source": [
    "Combined dataframe rows are now shuffled."
   ]
  },
  {
   "cell_type": "markdown",
   "id": "20d16f43-a470-4df4-afee-dd6039f1e2d5",
   "metadata": {},
   "source": [
    "----\n",
    "**Revisit Some Columns**<br>\n",
    "Let's revisit the `published_on` and `scraped_on` columns again."
   ]
  },
  {
   "cell_type": "code",
   "execution_count": 69,
   "id": "4be54edb-51cb-4dfa-9a6b-4ef1e431bbaf",
   "metadata": {
    "tags": []
   },
   "outputs": [
    {
     "name": "stdout",
     "output_type": "stream",
     "text": [
      "<class 'pandas.core.frame.DataFrame'>\n",
      "RangeIndex: 2226 entries, 0 to 2225\n",
      "Data columns (total 10 columns):\n",
      " #   Column             Non-Null Count  Dtype  \n",
      "---  ------             --------------  -----  \n",
      " 0   post_id            2226 non-null   object \n",
      " 1   post_title         2226 non-null   object \n",
      " 2   post_text          2226 non-null   object \n",
      " 3   published_on       1721 non-null   float64\n",
      " 4   scraped_on         1721 non-null   object \n",
      " 5   post_title_length  2226 non-null   int64  \n",
      " 6   post_title_wc      2226 non-null   int64  \n",
      " 7   post_text_length   2226 non-null   int64  \n",
      " 8   post_text_wc       2226 non-null   int64  \n",
      " 9   topic              2226 non-null   int64  \n",
      "dtypes: float64(1), int64(5), object(4)\n",
      "memory usage: 174.0+ KB\n"
     ]
    }
   ],
   "source": [
    "reddit.info()"
   ]
  },
  {
   "cell_type": "markdown",
   "id": "8f367524-4df2-4a1c-ae2e-a5ab8aeec1dc",
   "metadata": {},
   "source": [
    "Again, since this is a binary classification task, it looks like those two columns may not be needed.  Another column that may not be needed is `post_id`.  Drop those three columns from the dataframe."
   ]
  },
  {
   "cell_type": "code",
   "execution_count": 71,
   "id": "bb968d81-b286-4eb7-8df6-9c74bed97325",
   "metadata": {
    "tags": []
   },
   "outputs": [],
   "source": [
    "reddit.drop(columns = ['post_id', 'published_on', 'scraped_on'], inplace = True)"
   ]
  },
  {
   "cell_type": "code",
   "execution_count": 72,
   "id": "ef3994f4-d841-4441-89a5-ffa650796296",
   "metadata": {
    "tags": []
   },
   "outputs": [
    {
     "name": "stdout",
     "output_type": "stream",
     "text": [
      "(2226, 7)\n"
     ]
    },
    {
     "data": {
      "text/html": [
       "<div>\n",
       "<style scoped>\n",
       "    .dataframe tbody tr th:only-of-type {\n",
       "        vertical-align: middle;\n",
       "    }\n",
       "\n",
       "    .dataframe tbody tr th {\n",
       "        vertical-align: top;\n",
       "    }\n",
       "\n",
       "    .dataframe thead th {\n",
       "        text-align: right;\n",
       "    }\n",
       "</style>\n",
       "<table border=\"1\" class=\"dataframe\">\n",
       "  <thead>\n",
       "    <tr style=\"text-align: right;\">\n",
       "      <th></th>\n",
       "      <th>post_title</th>\n",
       "      <th>post_text</th>\n",
       "      <th>post_title_length</th>\n",
       "      <th>post_title_wc</th>\n",
       "      <th>post_text_length</th>\n",
       "      <th>post_text_wc</th>\n",
       "      <th>topic</th>\n",
       "    </tr>\n",
       "  </thead>\n",
       "  <tbody>\n",
       "    <tr>\n",
       "      <th>0</th>\n",
       "      <td>Monemvasia in December?</td>\n",
       "      <td>Im thinking about travelling to Monemvasia wit...</td>\n",
       "      <td>23</td>\n",
       "      <td>3</td>\n",
       "      <td>209</td>\n",
       "      <td>38</td>\n",
       "      <td>1</td>\n",
       "    </tr>\n",
       "    <tr>\n",
       "      <th>1</th>\n",
       "      <td>Vietjetair.com.  DOB format is a problem</td>\n",
       "      <td>I attempted to enter my information on [Vietje...</td>\n",
       "      <td>40</td>\n",
       "      <td>7</td>\n",
       "      <td>506</td>\n",
       "      <td>85</td>\n",
       "      <td>1</td>\n",
       "    </tr>\n",
       "  </tbody>\n",
       "</table>\n",
       "</div>"
      ],
      "text/plain": [
       "                                 post_title  \\\n",
       "0                   Monemvasia in December?   \n",
       "1  Vietjetair.com.  DOB format is a problem   \n",
       "\n",
       "                                           post_text  post_title_length  \\\n",
       "0  Im thinking about travelling to Monemvasia wit...                 23   \n",
       "1  I attempted to enter my information on [Vietje...                 40   \n",
       "\n",
       "   post_title_wc  post_text_length  post_text_wc  topic  \n",
       "0              3               209            38      1  \n",
       "1              7               506            85      1  "
      ]
     },
     "execution_count": 72,
     "metadata": {},
     "output_type": "execute_result"
    }
   ],
   "source": [
    "# confirm\n",
    "print(reddit.shape)\n",
    "reddit.head(2)"
   ]
  },
  {
   "cell_type": "code",
   "execution_count": 73,
   "id": "235e4cf1-e10c-484b-a0b6-8ebc85c8bc7a",
   "metadata": {
    "tags": []
   },
   "outputs": [
    {
     "name": "stdout",
     "output_type": "stream",
     "text": [
      "<class 'pandas.core.frame.DataFrame'>\n",
      "RangeIndex: 2226 entries, 0 to 2225\n",
      "Data columns (total 7 columns):\n",
      " #   Column             Non-Null Count  Dtype \n",
      "---  ------             --------------  ----- \n",
      " 0   post_title         2226 non-null   object\n",
      " 1   post_text          2226 non-null   object\n",
      " 2   post_title_length  2226 non-null   int64 \n",
      " 3   post_title_wc      2226 non-null   int64 \n",
      " 4   post_text_length   2226 non-null   int64 \n",
      " 5   post_text_wc       2226 non-null   int64 \n",
      " 6   topic              2226 non-null   int64 \n",
      "dtypes: int64(5), object(2)\n",
      "memory usage: 121.9+ KB\n"
     ]
    }
   ],
   "source": [
    "reddit.info()"
   ]
  },
  {
   "cell_type": "markdown",
   "id": "23387c70-1d1b-409e-962a-92d8b3ab6575",
   "metadata": {},
   "source": [
    "Combined dataframe looks ready for analysis and modeling.  Save a clean copy."
   ]
  },
  {
   "cell_type": "markdown",
   "id": "bfb59365-9351-45f1-9674-55352c9659a9",
   "metadata": {},
   "source": [
    "---\n",
    "**Save Clean Data**"
   ]
  },
  {
   "cell_type": "code",
   "execution_count": 76,
   "id": "89cc8d9d-1e0f-4781-b5cd-51c16e68a9b2",
   "metadata": {
    "tags": []
   },
   "outputs": [],
   "source": [
    "output_file = '../data/clean_data/reddit.csv'\n",
    "reddit.to_csv(output_file, index = False)"
   ]
  },
  {
   "cell_type": "markdown",
   "id": "dda3a14a-0b46-4a23-a9f3-1bb536178f39",
   "metadata": {},
   "source": [
    "Cleaned file successfully saved."
   ]
  },
  {
   "cell_type": "markdown",
   "id": "e4d9f31d-b9cb-47ce-a400-6811d50d4759",
   "metadata": {},
   "source": [
    "----\n",
    "### Conclusion"
   ]
  },
  {
   "cell_type": "markdown",
   "id": "64f1675a-ff6b-487e-b46e-0f0af833fa48",
   "metadata": {},
   "source": [
    "Every single model exceeded the baseline accuracy, which was calculated at 51.5%.<br><br>\n",
    "The worst performing model was the `KNeighborsClassifier` when coupled with the transformer `CountVectorizer`, its accuracy rate was 77.8%.  The key focus, though, was classification rate, so that same model missclassified travel posts a staregging 22.2% of the time!<br><br>\n",
    "Interestingly, `KNeighborsClassifier` performed better when paired with the `TfidfVectorizer` transformer. That being said, on this specific iteration, the tuning of the hyperparameters allowed for a wider range of _**k**_ values to try on.<br><br>\n",
    "The best performing model was `LogisticRegression` when paired with `TfidfVectorizer`.  This model achieved the lowest misclassfication rate at 5.7%, which is still relatively high given the fact that travel and real estate are very distinct topics. The most interesting insight for this model, as far as the hyperparameters were concerned, was that it was given the choice to also tokenize the text based on bi-grams by passing the option to the `ngram_range` parameter.  Based on the returned best parameters, that's exactly what it did, it did better with the bi-grams.<br><br>\n",
    "The `RandomForestClassifier` models didn't do so well when graded by misclassification rate (over 13% in both iterattions).  More fine tuning of the hyper parameters may be needed, but the grid searches for these classifiers consume a lot of time, so this is recommended for a future iteration of this project."
   ]
  },
  {
   "cell_type": "markdown",
   "id": "d4df7cec-e1aa-4ef6-bb78-4121247faf20",
   "metadata": {},
   "source": [
    "----\n",
    "### Recommendations"
   ]
  },
  {
   "cell_type": "markdown",
   "id": "b529228c-44ae-41c0-82d0-578e4d82f6fb",
   "metadata": {},
   "source": [
    "* Continue fine tuning the hyper parameters to see if a misclassification rate of less than 1% can be achieved.\n",
    "* Scrape data from other subbreddits, specially two that are similar in topic (i.e. Travel vs. Travel Hacks) to see if the performance suffers or stays the same."
   ]
  },
  {
   "cell_type": "code",
   "execution_count": null,
   "id": "aa252d09-0cee-451d-b713-a129e9c61e1d",
   "metadata": {},
   "outputs": [],
   "source": []
  }
 ],
 "metadata": {
  "kernelspec": {
   "display_name": "Python 3 (ipykernel)",
   "language": "python",
   "name": "python3"
  },
  "language_info": {
   "codemirror_mode": {
    "name": "ipython",
    "version": 3
   },
   "file_extension": ".py",
   "mimetype": "text/x-python",
   "name": "python",
   "nbconvert_exporter": "python",
   "pygments_lexer": "ipython3",
   "version": "3.11.5"
  }
 },
 "nbformat": 4,
 "nbformat_minor": 5
}
