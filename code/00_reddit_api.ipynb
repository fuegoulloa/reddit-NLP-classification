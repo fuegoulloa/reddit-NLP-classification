{
 "cells": [
  {
   "cell_type": "markdown",
   "id": "bdeb4c70-7d3b-4a99-871c-901aae0ab890",
   "metadata": {},
   "source": [
    "**Script to use Reddit API and scrape data**"
   ]
  },
  {
   "cell_type": "code",
   "execution_count": 28,
   "id": "36058e80",
   "metadata": {},
   "outputs": [],
   "source": [
    "# imports\n",
    "import pandas as pd\n",
    "import requests\n",
    "import time\n",
    "import getpass\n",
    "\n",
    "from bs4 import BeautifulSoup"
   ]
  },
  {
   "cell_type": "markdown",
   "id": "f773189e-c49b-4bb1-ba9c-f361ceec043f",
   "metadata": {
    "tags": []
   },
   "source": [
    "---\n",
    "**Access Info**"
   ]
  },
  {
   "cell_type": "code",
   "execution_count": 30,
   "id": "ee811348",
   "metadata": {},
   "outputs": [
    {
     "name": "stdin",
     "output_type": "stream",
     "text": [
      " ········\n",
      " ········\n",
      " ········\n",
      " ········\n",
      " ········\n"
     ]
    }
   ],
   "source": [
    "client_id = getpass.getpass()       #alphanumeric string provided under \"personal use script\"\n",
    "client_secret = getpass.getpass()   #alphanumeric string provided as \"secret\"\n",
    "user_agent = getpass.getpass()      #the name of your application\n",
    "username = getpass.getpass()        #your reddit username\n",
    "password =  getpass.getpass()       #your reddit password"
   ]
  },
  {
   "cell_type": "markdown",
   "id": "83312ff3",
   "metadata": {},
   "source": [
    "Now we're on our way to retrieving our access token; we'll use the basic authentication framework to get there."
   ]
  },
  {
   "cell_type": "code",
   "execution_count": 34,
   "id": "d3768e68",
   "metadata": {},
   "outputs": [
    {
     "name": "stdout",
     "output_type": "stream",
     "text": [
      "<Response [200]>\n"
     ]
    }
   ],
   "source": [
    "auth = requests.auth.HTTPBasicAuth(client_id, client_secret)\n",
    "\n",
    "data = {\n",
    "    'grant_type': 'password',\n",
    "    'username': username,\n",
    "    'password': password\n",
    "}\n",
    "\n",
    "#-----------------------------------------------------------------\n",
    "headers = {'User-Agent': 'dsb0826project3/0.0.1'}\n",
    "\n",
    "response = requests.post(\n",
    "    'https://www.reddit.com/api/v1/access_token',\n",
    "    auth = auth,\n",
    "    data = data,\n",
    "    headers = headers)\n",
    "\n",
    "#--- confirm response ----------------------------------------------\n",
    "print(response)"
   ]
  },
  {
   "cell_type": "markdown",
   "id": "903d0390",
   "metadata": {},
   "source": [
    "Hopefully upon running the above, you received a successful response code and can save your token. These should last for about two hours by default."
   ]
  },
  {
   "cell_type": "code",
   "execution_count": 36,
   "id": "3533632a",
   "metadata": {},
   "outputs": [
    {
     "data": {
      "text/plain": [
       "True"
      ]
     },
     "execution_count": 36,
     "metadata": {},
     "output_type": "execute_result"
    }
   ],
   "source": [
    "#retrieve access token\n",
    "token = response.json()['access_token']\n",
    "\n",
    "headers['Authorization'] = f'bearer {token}'\n",
    "\n",
    "requests.get('https://oauth.reddit.com/api/v1/me', headers = headers).status_code == 200"
   ]
  },
  {
   "cell_type": "markdown",
   "id": "4bb07348",
   "metadata": {},
   "source": [
    "Now let's add your access token to the headers and verify that you can successfully submit a call to the api."
   ]
  },
  {
   "cell_type": "markdown",
   "id": "09e1830f",
   "metadata": {},
   "source": [
    "If all went correctly, we can finally create a simple request."
   ]
  },
  {
   "cell_type": "code",
   "execution_count": 40,
   "id": "f4c70c0c",
   "metadata": {},
   "outputs": [],
   "source": [
    "base_url = 'https://oauth.reddit.com/r/'\n",
    "subreddit = 'travel'\n",
    "\n",
    "params = {\n",
    "    'limit': 100,\n",
    "    'after': last\n",
    "}\n",
    "\n",
    "response = requests.get(base_url+subreddit,\n",
    "                        headers = headers,\n",
    "                        params = params)"
   ]
  },
  {
   "cell_type": "markdown",
   "id": "74aa962c",
   "metadata": {},
   "source": [
    "Explore the response object. Where is our submission data? How many posts were retrieved by default?"
   ]
  },
  {
   "cell_type": "code",
   "execution_count": 46,
   "id": "81fec156-a99e-4853-b76e-349d639963bf",
   "metadata": {
    "tags": []
   },
   "outputs": [
    {
     "data": {
      "text/plain": [
       "200"
      ]
     },
     "execution_count": 46,
     "metadata": {},
     "output_type": "execute_result"
    }
   ],
   "source": [
    "response.status_code"
   ]
  },
  {
   "cell_type": "markdown",
   "id": "eda5cd46-b80f-4cb5-ae7f-80c6fdefb1ff",
   "metadata": {},
   "source": [
    "**Parsing Function**"
   ]
  },
  {
   "cell_type": "code",
   "execution_count": 272,
   "id": "22609926-f23e-4c6f-82f6-81520fef5d33",
   "metadata": {
    "tags": []
   },
   "outputs": [],
   "source": [
    "def parse_data(response, output_path = '../data/reddit_realestate.csv'):\n",
    "    \n",
    "    batch = response.json()['data']['children']\n",
    "\n",
    "    data = []\n",
    "\n",
    "    for item in batch:\n",
    "        post = {\n",
    "            'post_id' : item['data']['name'],\n",
    "            'post_title' : item['data']['title'],\n",
    "            'post_text' : item['data']['selftext']\n",
    "        }\n",
    "        data.append(post)\n",
    "    \n",
    "    \n",
    "    df = pd.DataFrame(data)\n",
    "    df.to_csv(output_path, mode = 'a', header = False, index = False)\n",
    "    \n",
    "    last_id = data[-1]['post_id']\n",
    "    \n",
    "    return last_id, df"
   ]
  },
  {
   "cell_type": "markdown",
   "id": "5f68529b-fb5a-42be-97dc-e6d84b5dff6e",
   "metadata": {
    "tags": []
   },
   "source": [
    "---\n",
    "**Full Script with For Loop Here**<br>\n",
    "Run this cell to scrape data."
   ]
  },
  {
   "cell_type": "code",
   "execution_count": 285,
   "id": "2bdf7f1a-1045-45d3-b8d5-8f180d3b6dc8",
   "metadata": {
    "tags": []
   },
   "outputs": [
    {
     "name": "stdout",
     "output_type": "stream",
     "text": [
      "Scrape: 1, Status: 200\n"
     ]
    }
   ],
   "source": [
    "for i in range(1, 2):\n",
    "    \n",
    "    base_url = 'https://oauth.reddit.com/r/'\n",
    "    subreddit = 'RealEstate'\n",
    "\n",
    "    params = {\n",
    "        'limit': 100,\n",
    "        'after': last\n",
    "    }\n",
    "\n",
    "    response = requests.get(base_url + subreddit,\n",
    "                            headers = headers,\n",
    "                            params = params)\n",
    "    \n",
    "    print(f'Scrape: {i}, Status: {response.status_code}')\n",
    "    \n",
    "    last, reddit = parse_data(response)\n",
    "    \n",
    "    # scrape every 10 seconds\n",
    "    time.sleep(10)"
   ]
  },
  {
   "cell_type": "code",
   "execution_count": 286,
   "id": "bfe15e35-c0aa-44f5-944a-d3ae34dd463d",
   "metadata": {
    "tags": []
   },
   "outputs": [
    {
     "data": {
      "text/plain": [
       "'t3_1fochf5'"
      ]
     },
     "execution_count": 286,
     "metadata": {},
     "output_type": "execute_result"
    }
   ],
   "source": [
    "last"
   ]
  },
  {
   "cell_type": "code",
   "execution_count": 289,
   "id": "b5009f5b-308e-4310-baff-d78f6b880ab3",
   "metadata": {
    "tags": []
   },
   "outputs": [
    {
     "data": {
      "text/html": [
       "<div>\n",
       "<style scoped>\n",
       "    .dataframe tbody tr th:only-of-type {\n",
       "        vertical-align: middle;\n",
       "    }\n",
       "\n",
       "    .dataframe tbody tr th {\n",
       "        vertical-align: top;\n",
       "    }\n",
       "\n",
       "    .dataframe thead th {\n",
       "        text-align: right;\n",
       "    }\n",
       "</style>\n",
       "<table border=\"1\" class=\"dataframe\">\n",
       "  <thead>\n",
       "    <tr style=\"text-align: right;\">\n",
       "      <th></th>\n",
       "      <th>post_id</th>\n",
       "      <th>post_title</th>\n",
       "      <th>post_text</th>\n",
       "    </tr>\n",
       "  </thead>\n",
       "  <tbody>\n",
       "    <tr>\n",
       "      <th>99</th>\n",
       "      <td>t3_1fochf5</td>\n",
       "      <td>How to negotiate a mortgage?</td>\n",
       "      <td>Looking to buy \\[very\\] shortly and trying to ...</td>\n",
       "    </tr>\n",
       "  </tbody>\n",
       "</table>\n",
       "</div>"
      ],
      "text/plain": [
       "       post_id                    post_title  \\\n",
       "99  t3_1fochf5  How to negotiate a mortgage?   \n",
       "\n",
       "                                            post_text  \n",
       "99  Looking to buy \\[very\\] shortly and trying to ...  "
      ]
     },
     "execution_count": 289,
     "metadata": {},
     "output_type": "execute_result"
    }
   ],
   "source": [
    "reddit.tail(1)"
   ]
  },
  {
   "cell_type": "code",
   "execution_count": 291,
   "id": "2adeb845-a2a5-4341-bf6b-db90c729cae5",
   "metadata": {
    "tags": []
   },
   "outputs": [
    {
     "data": {
      "text/plain": [
       "(700, 3)"
      ]
     },
     "execution_count": 291,
     "metadata": {},
     "output_type": "execute_result"
    }
   ],
   "source": [
    "# check if duplicate posts\n",
    "df = pd.read_csv('../data/reddit_realestate.csv')\n",
    "df.shape"
   ]
  },
  {
   "cell_type": "code",
   "execution_count": 293,
   "id": "1cda9872-3117-49dd-a706-29ca918322fb",
   "metadata": {
    "tags": []
   },
   "outputs": [
    {
     "data": {
      "text/plain": [
       "700"
      ]
     },
     "execution_count": 293,
     "metadata": {},
     "output_type": "execute_result"
    }
   ],
   "source": [
    "df['post_id'].nunique()"
   ]
  },
  {
   "cell_type": "code",
   "execution_count": null,
   "id": "cde15a59-3621-4532-95b9-3016c2154f14",
   "metadata": {},
   "outputs": [],
   "source": []
  }
 ],
 "metadata": {
  "kernelspec": {
   "display_name": "Python 3 (ipykernel)",
   "language": "python",
   "name": "python3"
  },
  "language_info": {
   "codemirror_mode": {
    "name": "ipython",
    "version": 3
   },
   "file_extension": ".py",
   "mimetype": "text/x-python",
   "name": "python",
   "nbconvert_exporter": "python",
   "pygments_lexer": "ipython3",
   "version": "3.11.5"
  }
 },
 "nbformat": 4,
 "nbformat_minor": 5
}
