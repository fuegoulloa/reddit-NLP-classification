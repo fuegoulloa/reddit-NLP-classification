{
 "cells": [
  {
   "cell_type": "markdown",
   "id": "f671e74c-7e5c-43d4-8522-101998f42ae9",
   "metadata": {},
   "source": [
    "<div align = 'center'>\n",
    "    <img src=\"../images/ga_logo_large.png\">\n",
    "</div>"
   ]
  },
  {
   "cell_type": "markdown",
   "id": "c870cb58-1279-49a7-a841-7b040fb4aa50",
   "metadata": {},
   "source": [
    "---\n",
    "## **Project 3: Web APIs and NLP**"
   ]
  },
  {
   "cell_type": "markdown",
   "id": "193cba77-2e56-48db-96ec-04128b40459d",
   "metadata": {},
   "source": [
    "----\n",
    "### **Pre Processing and Model Training**"
   ]
  },
  {
   "cell_type": "code",
   "execution_count": 413,
   "id": "eee8c481-c52d-4ed3-b226-4aeac3dcaf4f",
   "metadata": {},
   "outputs": [],
   "source": [
    "# import libraries needed for this notebook\n",
    "\n",
    "import numpy as np\n",
    "import pandas as pd\n",
    "import matplotlib.pyplot as plt\n",
    "\n",
    "# sklearn modules\n",
    "from sklearn.model_selection import train_test_split, GridSearchCV\n",
    "from sklearn.pipeline import Pipeline\n",
    "from sklearn.linear_model import LogisticRegression\n",
    "from sklearn.neighbors import KNeighborsClassifier\n",
    "from sklearn.ensemble import RandomForestClassifier\n",
    "from sklearn.feature_extraction.text import CountVectorizer, TfidfVectorizer\n",
    "\n",
    "# metrics\n",
    "from sklearn.metrics import (accuracy_score,\n",
    "                             precision_score,\n",
    "                             recall_score,\n",
    "                             f1_score,\n",
    "                             confusion_matrix,\n",
    "                             ConfusionMatrixDisplay,\n",
    "                             RocCurveDisplay)"
   ]
  },
  {
   "cell_type": "code",
   "execution_count": 16,
   "id": "baad742e-552a-4add-a501-1ba733baac81",
   "metadata": {},
   "outputs": [
    {
     "name": "stdout",
     "output_type": "stream",
     "text": [
      "(2226, 7)\n"
     ]
    },
    {
     "data": {
      "text/html": [
       "<div>\n",
       "<style scoped>\n",
       "    .dataframe tbody tr th:only-of-type {\n",
       "        vertical-align: middle;\n",
       "    }\n",
       "\n",
       "    .dataframe tbody tr th {\n",
       "        vertical-align: top;\n",
       "    }\n",
       "\n",
       "    .dataframe thead th {\n",
       "        text-align: right;\n",
       "    }\n",
       "</style>\n",
       "<table border=\"1\" class=\"dataframe\">\n",
       "  <thead>\n",
       "    <tr style=\"text-align: right;\">\n",
       "      <th></th>\n",
       "      <th>post_title</th>\n",
       "      <th>post_text</th>\n",
       "      <th>post_title_length</th>\n",
       "      <th>post_title_wc</th>\n",
       "      <th>post_text_length</th>\n",
       "      <th>post_text_wc</th>\n",
       "      <th>topic</th>\n",
       "    </tr>\n",
       "  </thead>\n",
       "  <tbody>\n",
       "    <tr>\n",
       "      <th>2224</th>\n",
       "      <td>Argentina: Buenos Aires or Salta for 3-4 extra...</td>\n",
       "      <td>Hello...I am taking a group tour in Argentina ...</td>\n",
       "      <td>51</td>\n",
       "      <td>9</td>\n",
       "      <td>1568</td>\n",
       "      <td>304</td>\n",
       "      <td>1</td>\n",
       "    </tr>\n",
       "    <tr>\n",
       "      <th>2225</th>\n",
       "      <td>First time investing in Duplex</td>\n",
       "      <td>Hey guys, really need some advice as it is my ...</td>\n",
       "      <td>30</td>\n",
       "      <td>5</td>\n",
       "      <td>533</td>\n",
       "      <td>98</td>\n",
       "      <td>0</td>\n",
       "    </tr>\n",
       "  </tbody>\n",
       "</table>\n",
       "</div>"
      ],
      "text/plain": [
       "                                             post_title  \\\n",
       "2224  Argentina: Buenos Aires or Salta for 3-4 extra...   \n",
       "2225                     First time investing in Duplex   \n",
       "\n",
       "                                              post_text  post_title_length  \\\n",
       "2224  Hello...I am taking a group tour in Argentina ...                 51   \n",
       "2225  Hey guys, really need some advice as it is my ...                 30   \n",
       "\n",
       "      post_title_wc  post_text_length  post_text_wc  topic  \n",
       "2224              9              1568           304      1  \n",
       "2225              5               533            98      0  "
      ]
     },
     "execution_count": 16,
     "metadata": {},
     "output_type": "execute_result"
    }
   ],
   "source": [
    "# read in clean file\n",
    "file_path = '../data/clean_data/reddit.csv'\n",
    "\n",
    "reddit = pd.read_csv(file_path)\n",
    "\n",
    "# check dimensions and a couple rows\n",
    "print(reddit.shape)\n",
    "reddit.tail(2)"
   ]
  },
  {
   "cell_type": "markdown",
   "id": "c564229e-4421-45cf-a821-cc0d62d1524e",
   "metadata": {},
   "source": [
    "This dataset is already clean, there are no missing values or duplicates.  Let's proceed to pre-processing."
   ]
  },
  {
   "cell_type": "markdown",
   "id": "34a64ba6-6944-4377-9aca-cc43677fcd88",
   "metadata": {},
   "source": [
    "---\n",
    "**Pre-Processing Stage**<br>\n",
    "Set up _**X**_ matrix and **y** target vector"
   ]
  },
  {
   "cell_type": "markdown",
   "id": "ab477482-edef-4040-a80d-2196e26d60d1",
   "metadata": {},
   "source": [
    "From the EDA stage, it was determined that the classifier we're about to build will rely on data from the `post_title` column.  The target will be the `topic` column, where a value of `0` means the row contains a real estate post, and a value of `1` means the row contains a travel post.  The aim of the classifier is to predict whether any given post is a travel post or not."
   ]
  },
  {
   "cell_type": "code",
   "execution_count": 30,
   "id": "bcb0a232-f0b7-445d-ad1f-c99d3577c0e2",
   "metadata": {},
   "outputs": [
    {
     "data": {
      "text/plain": [
       "((2226,), (2226,))"
      ]
     },
     "execution_count": 30,
     "metadata": {},
     "output_type": "execute_result"
    }
   ],
   "source": [
    "# set up matrix and target\n",
    "X = reddit['post_title']\n",
    "y = reddit['topic']\n",
    "\n",
    "# confirm shapes\n",
    "X.shape, y.shape"
   ]
  },
  {
   "cell_type": "markdown",
   "id": "f36e1024-246c-4675-b016-48a29de728b6",
   "metadata": {},
   "source": [
    "**Calculate Baseline Accuracy**"
   ]
  },
  {
   "cell_type": "code",
   "execution_count": 34,
   "id": "cdd670aa-2cae-48c4-90c0-0d031bdb3bac",
   "metadata": {},
   "outputs": [
    {
     "data": {
      "text/plain": [
       "topic\n",
       "1    0.515274\n",
       "0    0.484726\n",
       "Name: proportion, dtype: float64"
      ]
     },
     "execution_count": 34,
     "metadata": {},
     "output_type": "execute_result"
    }
   ],
   "source": [
    "y.value_counts(normalize = True)"
   ]
  },
  {
   "cell_type": "code",
   "execution_count": 47,
   "id": "e9973d5c-61f5-48bb-a5ed-010b5ace31b5",
   "metadata": {
    "tags": []
   },
   "outputs": [],
   "source": [
    "base_acc = y.value_counts(normalize = True)[1]"
   ]
  },
  {
   "cell_type": "code",
   "execution_count": 67,
   "id": "21db9406-43a9-4b24-8b0e-76a10e60ffce",
   "metadata": {
    "tags": []
   },
   "outputs": [
    {
     "name": "stdout",
     "output_type": "stream",
     "text": [
      "The classes are very well balanced in this dataset. Travel posts account for 51.5% of the data.\n",
      "The various models that will be attempted need to beat this level of accuracy.\n"
     ]
    }
   ],
   "source": [
    "print(f\"The classes are very well balanced in this dataset. Travel posts account for {round(base_acc, 3)*100}% of the data.\\n\"\n",
    "\"The various models that will be attempted need to beat this level of accuracy.\")"
   ]
  },
  {
   "cell_type": "markdown",
   "id": "518a79e7-7f95-4d4c-a7f6-2546c8c2b3ea",
   "metadata": {},
   "source": [
    "**Training and Testing Set Splits**"
   ]
  },
  {
   "cell_type": "code",
   "execution_count": 82,
   "id": "2387629a-baee-4f5e-afa5-48f618e23318",
   "metadata": {
    "tags": []
   },
   "outputs": [],
   "source": [
    "# use 70/30 split\n",
    "# although classes are almost evenly balanced, I will still stratify the data to keep the same ratio\n",
    "X_train, X_test, y_train, y_test = train_test_split(X, y,\n",
    "                                                    train_size = 0.7,\n",
    "                                                    stratify = y,\n",
    "                                                    random_state = 1976)"
   ]
  },
  {
   "cell_type": "code",
   "execution_count": 84,
   "id": "99e19900-e778-4bf2-9131-79920da24cfa",
   "metadata": {
    "tags": []
   },
   "outputs": [
    {
     "name": "stdout",
     "output_type": "stream",
     "text": [
      "topic\n",
      "1    0.515404\n",
      "0    0.484596\n",
      "Name: proportion, dtype: float64\n",
      "***********************************\n",
      "topic\n",
      "1    0.51497\n",
      "0    0.48503\n",
      "Name: proportion, dtype: float64\n"
     ]
    }
   ],
   "source": [
    "# confirm stratification\n",
    "print(y_train.value_counts(normalize = True))\n",
    "print('*'*35)\n",
    "print(y_test.value_counts(normalize = True))"
   ]
  },
  {
   "cell_type": "markdown",
   "id": "ce77cb56-ff1b-4f8d-9b7c-5f4ee541567c",
   "metadata": {},
   "source": [
    "Both the training set and the testing set are set up and balanced correctly to mimic the original data."
   ]
  },
  {
   "cell_type": "markdown",
   "id": "1e806c3f-821c-453a-ad8e-374fa0299114",
   "metadata": {},
   "source": [
    "---\n",
    "**Model Buildup, Training and Evaluation Stage**"
   ]
  },
  {
   "cell_type": "markdown",
   "id": "e9aafe3f-f00d-43ed-9fb3-2c105001ba13",
   "metadata": {},
   "source": [
    "Use function below to quickly evaluate models."
   ]
  },
  {
   "cell_type": "code",
   "execution_count": 471,
   "id": "5e0b6f28-ee53-46a0-8ad4-df3bf1ef7836",
   "metadata": {
    "tags": []
   },
   "outputs": [],
   "source": [
    "def evaluate_model(model, X_test = X_test, y_test = y_test):\n",
    "\n",
    "    # calculate metrics for current model design/iteration------------------------\n",
    "    preds = model.predict(X_test)\n",
    "    \n",
    "    acc1 = round(model.best_score_, 3)                # best accuracy score\n",
    "    acc2 = round(model.score(X_test, y_test), 3)      # actual accuracy score on test set\n",
    "    mis = round(1 - acc2, 3)                          # misclassification rate on test set\n",
    "    prec = round(precision_score(y_test, preds), 3)   # precision score\n",
    "    f1 = round(f1_score(y_test, preds), 3)            # f1 score\n",
    "    # ----------------------------------------------------------------------------\n",
    "    \n",
    "    # plot confusion matrix and ROC curve-----------------------------------------\n",
    "    \n",
    "    # container\n",
    "    fig, axes = plt.subplots(1, 2, figsize=(9, 4))\n",
    "\n",
    "    # source to tweak with the confusion matrix parameters: \n",
    "    # https://scikit-learn.org/1.5/modules/generated/sklearn.metrics.ConfusionMatrixDisplay.html\n",
    "    ConfusionMatrixDisplay.from_estimator(model, X_test, y_test,\n",
    "                                          display_labels = ['Real Estate', 'Travel'],\n",
    "                                          ax = axes[0], colorbar = False,\n",
    "                                          cmap = 'Blues')\n",
    "\n",
    "\n",
    "    RocCurveDisplay.from_estimator(model, X_test, y_test,\n",
    "                                   ax=axes[1],\n",
    "                                   color = '#00bcd4');\n",
    "\n",
    "    axes[1].spines['top'].set_visible(False)\n",
    "    axes[1].spines['right'].set_visible(False)\n",
    "\n",
    "\n",
    "    plt.legend(frameon = False, loc = 'lower right')\n",
    "\n",
    "    # source for this line: \n",
    "    # https://stackoverflow.com/questions/6541123/improve-subplot-size-spacing-with-many-subplots\n",
    "    plt.subplots_adjust(wspace=0.4)\n",
    "    #---------------------------------------------------------------------------------\n",
    "    \n",
    "    \n",
    "    # print statements----------------------------------------------------------------\n",
    "    print(f'Best Accuracy Score: {acc1}')\n",
    "    print(f'Actual Accuracy Score: {acc2}')\n",
    "    print(f'Misclassification Rate: {mis}')\n",
    "    print(f'Precision Score: {prec}')\n",
    "    print(f'F1 Score: {f1}')\n",
    "    #---------------------------------------------------------------------------------\n",
    "    \n",
    "    # save plots\n",
    "    \n",
    "    \n",
    "    return {'best_accuracy': acc1, \n",
    "            'accuracy': acc2,\n",
    "            'misclassification': mis,\n",
    "            'precision': prec,\n",
    "            'f1_score': f1\n",
    "           }    "
   ]
  },
  {
   "cell_type": "markdown",
   "id": "e464d1c2-0882-410d-bc24-0a747372d258",
   "metadata": {},
   "source": [
    "The list below will store the metrics returned from the `evaluate_model()` function."
   ]
  },
  {
   "cell_type": "code",
   "execution_count": 473,
   "id": "f7c2daf3-6912-4253-b59e-0d2524846f38",
   "metadata": {
    "tags": []
   },
   "outputs": [],
   "source": [
    "metrics = []"
   ]
  },
  {
   "cell_type": "markdown",
   "id": "6b1309b2-9aec-4d67-9dcc-db7a63605e67",
   "metadata": {},
   "source": [
    "**Model 1**"
   ]
  },
  {
   "cell_type": "code",
   "execution_count": 89,
   "id": "8ad0905e-4dfd-43eb-b225-7159f323bbd4",
   "metadata": {
    "tags": []
   },
   "outputs": [],
   "source": [
    "# use Logistic Regression with Count Vectorizer\n",
    "# build pipeline\n",
    "pipe1 = Pipeline([\n",
    "    ('cvec1', CountVectorizer()),\n",
    "    ('model1', LogisticRegression())\n",
    "])"
   ]
  },
  {
   "cell_type": "code",
   "execution_count": 145,
   "id": "a98442af-66b3-430a-8d44-0c9541a3bd5f",
   "metadata": {
    "tags": []
   },
   "outputs": [],
   "source": [
    "# grid search parameters\n",
    "params1 = {'cvec1__stop_words': [None, 'english'],\n",
    "           'cvec1__max_features': [None, 1000, 5000, 10000],\n",
    "           'model1__penalty': [None, 'l2']}"
   ]
  },
  {
   "cell_type": "code",
   "execution_count": 147,
   "id": "0b44298a-18e2-4b33-95b5-bf4323ad907a",
   "metadata": {
    "tags": []
   },
   "outputs": [],
   "source": [
    "# grid search setup\n",
    "gs1 = GridSearchCV(\n",
    "    pipe1,\n",
    "    param_grid = params1,\n",
    "    n_jobs = -1,\n",
    "    verbose = 1\n",
    ")"
   ]
  },
  {
   "cell_type": "code",
   "execution_count": 149,
   "id": "cdb04427-654d-4834-b8c3-2a8edf07eaa9",
   "metadata": {
    "tags": []
   },
   "outputs": [
    {
     "name": "stdout",
     "output_type": "stream",
     "text": [
      "Fitting 5 folds for each of 16 candidates, totalling 80 fits\n"
     ]
    },
    {
     "data": {
      "text/html": [
       "<style>#sk-container-id-6 {\n",
       "  /* Definition of color scheme common for light and dark mode */\n",
       "  --sklearn-color-text: black;\n",
       "  --sklearn-color-line: gray;\n",
       "  /* Definition of color scheme for unfitted estimators */\n",
       "  --sklearn-color-unfitted-level-0: #fff5e6;\n",
       "  --sklearn-color-unfitted-level-1: #f6e4d2;\n",
       "  --sklearn-color-unfitted-level-2: #ffe0b3;\n",
       "  --sklearn-color-unfitted-level-3: chocolate;\n",
       "  /* Definition of color scheme for fitted estimators */\n",
       "  --sklearn-color-fitted-level-0: #f0f8ff;\n",
       "  --sklearn-color-fitted-level-1: #d4ebff;\n",
       "  --sklearn-color-fitted-level-2: #b3dbfd;\n",
       "  --sklearn-color-fitted-level-3: cornflowerblue;\n",
       "\n",
       "  /* Specific color for light theme */\n",
       "  --sklearn-color-text-on-default-background: var(--sg-text-color, var(--theme-code-foreground, var(--jp-content-font-color1, black)));\n",
       "  --sklearn-color-background: var(--sg-background-color, var(--theme-background, var(--jp-layout-color0, white)));\n",
       "  --sklearn-color-border-box: var(--sg-text-color, var(--theme-code-foreground, var(--jp-content-font-color1, black)));\n",
       "  --sklearn-color-icon: #696969;\n",
       "\n",
       "  @media (prefers-color-scheme: dark) {\n",
       "    /* Redefinition of color scheme for dark theme */\n",
       "    --sklearn-color-text-on-default-background: var(--sg-text-color, var(--theme-code-foreground, var(--jp-content-font-color1, white)));\n",
       "    --sklearn-color-background: var(--sg-background-color, var(--theme-background, var(--jp-layout-color0, #111)));\n",
       "    --sklearn-color-border-box: var(--sg-text-color, var(--theme-code-foreground, var(--jp-content-font-color1, white)));\n",
       "    --sklearn-color-icon: #878787;\n",
       "  }\n",
       "}\n",
       "\n",
       "#sk-container-id-6 {\n",
       "  color: var(--sklearn-color-text);\n",
       "}\n",
       "\n",
       "#sk-container-id-6 pre {\n",
       "  padding: 0;\n",
       "}\n",
       "\n",
       "#sk-container-id-6 input.sk-hidden--visually {\n",
       "  border: 0;\n",
       "  clip: rect(1px 1px 1px 1px);\n",
       "  clip: rect(1px, 1px, 1px, 1px);\n",
       "  height: 1px;\n",
       "  margin: -1px;\n",
       "  overflow: hidden;\n",
       "  padding: 0;\n",
       "  position: absolute;\n",
       "  width: 1px;\n",
       "}\n",
       "\n",
       "#sk-container-id-6 div.sk-dashed-wrapped {\n",
       "  border: 1px dashed var(--sklearn-color-line);\n",
       "  margin: 0 0.4em 0.5em 0.4em;\n",
       "  box-sizing: border-box;\n",
       "  padding-bottom: 0.4em;\n",
       "  background-color: var(--sklearn-color-background);\n",
       "}\n",
       "\n",
       "#sk-container-id-6 div.sk-container {\n",
       "  /* jupyter's `normalize.less` sets `[hidden] { display: none; }`\n",
       "     but bootstrap.min.css set `[hidden] { display: none !important; }`\n",
       "     so we also need the `!important` here to be able to override the\n",
       "     default hidden behavior on the sphinx rendered scikit-learn.org.\n",
       "     See: https://github.com/scikit-learn/scikit-learn/issues/21755 */\n",
       "  display: inline-block !important;\n",
       "  position: relative;\n",
       "}\n",
       "\n",
       "#sk-container-id-6 div.sk-text-repr-fallback {\n",
       "  display: none;\n",
       "}\n",
       "\n",
       "div.sk-parallel-item,\n",
       "div.sk-serial,\n",
       "div.sk-item {\n",
       "  /* draw centered vertical line to link estimators */\n",
       "  background-image: linear-gradient(var(--sklearn-color-text-on-default-background), var(--sklearn-color-text-on-default-background));\n",
       "  background-size: 2px 100%;\n",
       "  background-repeat: no-repeat;\n",
       "  background-position: center center;\n",
       "}\n",
       "\n",
       "/* Parallel-specific style estimator block */\n",
       "\n",
       "#sk-container-id-6 div.sk-parallel-item::after {\n",
       "  content: \"\";\n",
       "  width: 100%;\n",
       "  border-bottom: 2px solid var(--sklearn-color-text-on-default-background);\n",
       "  flex-grow: 1;\n",
       "}\n",
       "\n",
       "#sk-container-id-6 div.sk-parallel {\n",
       "  display: flex;\n",
       "  align-items: stretch;\n",
       "  justify-content: center;\n",
       "  background-color: var(--sklearn-color-background);\n",
       "  position: relative;\n",
       "}\n",
       "\n",
       "#sk-container-id-6 div.sk-parallel-item {\n",
       "  display: flex;\n",
       "  flex-direction: column;\n",
       "}\n",
       "\n",
       "#sk-container-id-6 div.sk-parallel-item:first-child::after {\n",
       "  align-self: flex-end;\n",
       "  width: 50%;\n",
       "}\n",
       "\n",
       "#sk-container-id-6 div.sk-parallel-item:last-child::after {\n",
       "  align-self: flex-start;\n",
       "  width: 50%;\n",
       "}\n",
       "\n",
       "#sk-container-id-6 div.sk-parallel-item:only-child::after {\n",
       "  width: 0;\n",
       "}\n",
       "\n",
       "/* Serial-specific style estimator block */\n",
       "\n",
       "#sk-container-id-6 div.sk-serial {\n",
       "  display: flex;\n",
       "  flex-direction: column;\n",
       "  align-items: center;\n",
       "  background-color: var(--sklearn-color-background);\n",
       "  padding-right: 1em;\n",
       "  padding-left: 1em;\n",
       "}\n",
       "\n",
       "\n",
       "/* Toggleable style: style used for estimator/Pipeline/ColumnTransformer box that is\n",
       "clickable and can be expanded/collapsed.\n",
       "- Pipeline and ColumnTransformer use this feature and define the default style\n",
       "- Estimators will overwrite some part of the style using the `sk-estimator` class\n",
       "*/\n",
       "\n",
       "/* Pipeline and ColumnTransformer style (default) */\n",
       "\n",
       "#sk-container-id-6 div.sk-toggleable {\n",
       "  /* Default theme specific background. It is overwritten whether we have a\n",
       "  specific estimator or a Pipeline/ColumnTransformer */\n",
       "  background-color: var(--sklearn-color-background);\n",
       "}\n",
       "\n",
       "/* Toggleable label */\n",
       "#sk-container-id-6 label.sk-toggleable__label {\n",
       "  cursor: pointer;\n",
       "  display: block;\n",
       "  width: 100%;\n",
       "  margin-bottom: 0;\n",
       "  padding: 0.5em;\n",
       "  box-sizing: border-box;\n",
       "  text-align: center;\n",
       "}\n",
       "\n",
       "#sk-container-id-6 label.sk-toggleable__label-arrow:before {\n",
       "  /* Arrow on the left of the label */\n",
       "  content: \"▸\";\n",
       "  float: left;\n",
       "  margin-right: 0.25em;\n",
       "  color: var(--sklearn-color-icon);\n",
       "}\n",
       "\n",
       "#sk-container-id-6 label.sk-toggleable__label-arrow:hover:before {\n",
       "  color: var(--sklearn-color-text);\n",
       "}\n",
       "\n",
       "/* Toggleable content - dropdown */\n",
       "\n",
       "#sk-container-id-6 div.sk-toggleable__content {\n",
       "  max-height: 0;\n",
       "  max-width: 0;\n",
       "  overflow: hidden;\n",
       "  text-align: left;\n",
       "  /* unfitted */\n",
       "  background-color: var(--sklearn-color-unfitted-level-0);\n",
       "}\n",
       "\n",
       "#sk-container-id-6 div.sk-toggleable__content.fitted {\n",
       "  /* fitted */\n",
       "  background-color: var(--sklearn-color-fitted-level-0);\n",
       "}\n",
       "\n",
       "#sk-container-id-6 div.sk-toggleable__content pre {\n",
       "  margin: 0.2em;\n",
       "  border-radius: 0.25em;\n",
       "  color: var(--sklearn-color-text);\n",
       "  /* unfitted */\n",
       "  background-color: var(--sklearn-color-unfitted-level-0);\n",
       "}\n",
       "\n",
       "#sk-container-id-6 div.sk-toggleable__content.fitted pre {\n",
       "  /* unfitted */\n",
       "  background-color: var(--sklearn-color-fitted-level-0);\n",
       "}\n",
       "\n",
       "#sk-container-id-6 input.sk-toggleable__control:checked~div.sk-toggleable__content {\n",
       "  /* Expand drop-down */\n",
       "  max-height: 200px;\n",
       "  max-width: 100%;\n",
       "  overflow: auto;\n",
       "}\n",
       "\n",
       "#sk-container-id-6 input.sk-toggleable__control:checked~label.sk-toggleable__label-arrow:before {\n",
       "  content: \"▾\";\n",
       "}\n",
       "\n",
       "/* Pipeline/ColumnTransformer-specific style */\n",
       "\n",
       "#sk-container-id-6 div.sk-label input.sk-toggleable__control:checked~label.sk-toggleable__label {\n",
       "  color: var(--sklearn-color-text);\n",
       "  background-color: var(--sklearn-color-unfitted-level-2);\n",
       "}\n",
       "\n",
       "#sk-container-id-6 div.sk-label.fitted input.sk-toggleable__control:checked~label.sk-toggleable__label {\n",
       "  background-color: var(--sklearn-color-fitted-level-2);\n",
       "}\n",
       "\n",
       "/* Estimator-specific style */\n",
       "\n",
       "/* Colorize estimator box */\n",
       "#sk-container-id-6 div.sk-estimator input.sk-toggleable__control:checked~label.sk-toggleable__label {\n",
       "  /* unfitted */\n",
       "  background-color: var(--sklearn-color-unfitted-level-2);\n",
       "}\n",
       "\n",
       "#sk-container-id-6 div.sk-estimator.fitted input.sk-toggleable__control:checked~label.sk-toggleable__label {\n",
       "  /* fitted */\n",
       "  background-color: var(--sklearn-color-fitted-level-2);\n",
       "}\n",
       "\n",
       "#sk-container-id-6 div.sk-label label.sk-toggleable__label,\n",
       "#sk-container-id-6 div.sk-label label {\n",
       "  /* The background is the default theme color */\n",
       "  color: var(--sklearn-color-text-on-default-background);\n",
       "}\n",
       "\n",
       "/* On hover, darken the color of the background */\n",
       "#sk-container-id-6 div.sk-label:hover label.sk-toggleable__label {\n",
       "  color: var(--sklearn-color-text);\n",
       "  background-color: var(--sklearn-color-unfitted-level-2);\n",
       "}\n",
       "\n",
       "/* Label box, darken color on hover, fitted */\n",
       "#sk-container-id-6 div.sk-label.fitted:hover label.sk-toggleable__label.fitted {\n",
       "  color: var(--sklearn-color-text);\n",
       "  background-color: var(--sklearn-color-fitted-level-2);\n",
       "}\n",
       "\n",
       "/* Estimator label */\n",
       "\n",
       "#sk-container-id-6 div.sk-label label {\n",
       "  font-family: monospace;\n",
       "  font-weight: bold;\n",
       "  display: inline-block;\n",
       "  line-height: 1.2em;\n",
       "}\n",
       "\n",
       "#sk-container-id-6 div.sk-label-container {\n",
       "  text-align: center;\n",
       "}\n",
       "\n",
       "/* Estimator-specific */\n",
       "#sk-container-id-6 div.sk-estimator {\n",
       "  font-family: monospace;\n",
       "  border: 1px dotted var(--sklearn-color-border-box);\n",
       "  border-radius: 0.25em;\n",
       "  box-sizing: border-box;\n",
       "  margin-bottom: 0.5em;\n",
       "  /* unfitted */\n",
       "  background-color: var(--sklearn-color-unfitted-level-0);\n",
       "}\n",
       "\n",
       "#sk-container-id-6 div.sk-estimator.fitted {\n",
       "  /* fitted */\n",
       "  background-color: var(--sklearn-color-fitted-level-0);\n",
       "}\n",
       "\n",
       "/* on hover */\n",
       "#sk-container-id-6 div.sk-estimator:hover {\n",
       "  /* unfitted */\n",
       "  background-color: var(--sklearn-color-unfitted-level-2);\n",
       "}\n",
       "\n",
       "#sk-container-id-6 div.sk-estimator.fitted:hover {\n",
       "  /* fitted */\n",
       "  background-color: var(--sklearn-color-fitted-level-2);\n",
       "}\n",
       "\n",
       "/* Specification for estimator info (e.g. \"i\" and \"?\") */\n",
       "\n",
       "/* Common style for \"i\" and \"?\" */\n",
       "\n",
       ".sk-estimator-doc-link,\n",
       "a:link.sk-estimator-doc-link,\n",
       "a:visited.sk-estimator-doc-link {\n",
       "  float: right;\n",
       "  font-size: smaller;\n",
       "  line-height: 1em;\n",
       "  font-family: monospace;\n",
       "  background-color: var(--sklearn-color-background);\n",
       "  border-radius: 1em;\n",
       "  height: 1em;\n",
       "  width: 1em;\n",
       "  text-decoration: none !important;\n",
       "  margin-left: 1ex;\n",
       "  /* unfitted */\n",
       "  border: var(--sklearn-color-unfitted-level-1) 1pt solid;\n",
       "  color: var(--sklearn-color-unfitted-level-1);\n",
       "}\n",
       "\n",
       ".sk-estimator-doc-link.fitted,\n",
       "a:link.sk-estimator-doc-link.fitted,\n",
       "a:visited.sk-estimator-doc-link.fitted {\n",
       "  /* fitted */\n",
       "  border: var(--sklearn-color-fitted-level-1) 1pt solid;\n",
       "  color: var(--sklearn-color-fitted-level-1);\n",
       "}\n",
       "\n",
       "/* On hover */\n",
       "div.sk-estimator:hover .sk-estimator-doc-link:hover,\n",
       ".sk-estimator-doc-link:hover,\n",
       "div.sk-label-container:hover .sk-estimator-doc-link:hover,\n",
       ".sk-estimator-doc-link:hover {\n",
       "  /* unfitted */\n",
       "  background-color: var(--sklearn-color-unfitted-level-3);\n",
       "  color: var(--sklearn-color-background);\n",
       "  text-decoration: none;\n",
       "}\n",
       "\n",
       "div.sk-estimator.fitted:hover .sk-estimator-doc-link.fitted:hover,\n",
       ".sk-estimator-doc-link.fitted:hover,\n",
       "div.sk-label-container:hover .sk-estimator-doc-link.fitted:hover,\n",
       ".sk-estimator-doc-link.fitted:hover {\n",
       "  /* fitted */\n",
       "  background-color: var(--sklearn-color-fitted-level-3);\n",
       "  color: var(--sklearn-color-background);\n",
       "  text-decoration: none;\n",
       "}\n",
       "\n",
       "/* Span, style for the box shown on hovering the info icon */\n",
       ".sk-estimator-doc-link span {\n",
       "  display: none;\n",
       "  z-index: 9999;\n",
       "  position: relative;\n",
       "  font-weight: normal;\n",
       "  right: .2ex;\n",
       "  padding: .5ex;\n",
       "  margin: .5ex;\n",
       "  width: min-content;\n",
       "  min-width: 20ex;\n",
       "  max-width: 50ex;\n",
       "  color: var(--sklearn-color-text);\n",
       "  box-shadow: 2pt 2pt 4pt #999;\n",
       "  /* unfitted */\n",
       "  background: var(--sklearn-color-unfitted-level-0);\n",
       "  border: .5pt solid var(--sklearn-color-unfitted-level-3);\n",
       "}\n",
       "\n",
       ".sk-estimator-doc-link.fitted span {\n",
       "  /* fitted */\n",
       "  background: var(--sklearn-color-fitted-level-0);\n",
       "  border: var(--sklearn-color-fitted-level-3);\n",
       "}\n",
       "\n",
       ".sk-estimator-doc-link:hover span {\n",
       "  display: block;\n",
       "}\n",
       "\n",
       "/* \"?\"-specific style due to the `<a>` HTML tag */\n",
       "\n",
       "#sk-container-id-6 a.estimator_doc_link {\n",
       "  float: right;\n",
       "  font-size: 1rem;\n",
       "  line-height: 1em;\n",
       "  font-family: monospace;\n",
       "  background-color: var(--sklearn-color-background);\n",
       "  border-radius: 1rem;\n",
       "  height: 1rem;\n",
       "  width: 1rem;\n",
       "  text-decoration: none;\n",
       "  /* unfitted */\n",
       "  color: var(--sklearn-color-unfitted-level-1);\n",
       "  border: var(--sklearn-color-unfitted-level-1) 1pt solid;\n",
       "}\n",
       "\n",
       "#sk-container-id-6 a.estimator_doc_link.fitted {\n",
       "  /* fitted */\n",
       "  border: var(--sklearn-color-fitted-level-1) 1pt solid;\n",
       "  color: var(--sklearn-color-fitted-level-1);\n",
       "}\n",
       "\n",
       "/* On hover */\n",
       "#sk-container-id-6 a.estimator_doc_link:hover {\n",
       "  /* unfitted */\n",
       "  background-color: var(--sklearn-color-unfitted-level-3);\n",
       "  color: var(--sklearn-color-background);\n",
       "  text-decoration: none;\n",
       "}\n",
       "\n",
       "#sk-container-id-6 a.estimator_doc_link.fitted:hover {\n",
       "  /* fitted */\n",
       "  background-color: var(--sklearn-color-fitted-level-3);\n",
       "}\n",
       "</style><div id=\"sk-container-id-6\" class=\"sk-top-container\"><div class=\"sk-text-repr-fallback\"><pre>GridSearchCV(estimator=Pipeline(steps=[(&#x27;cvec1&#x27;, CountVectorizer()),\n",
       "                                       (&#x27;model1&#x27;, LogisticRegression())]),\n",
       "             n_jobs=-1,\n",
       "             param_grid={&#x27;cvec1__max_features&#x27;: [None, 1000, 5000, 10000],\n",
       "                         &#x27;cvec1__stop_words&#x27;: [None, &#x27;english&#x27;],\n",
       "                         &#x27;model1__penalty&#x27;: [None, &#x27;l2&#x27;]},\n",
       "             verbose=1)</pre><b>In a Jupyter environment, please rerun this cell to show the HTML representation or trust the notebook. <br />On GitHub, the HTML representation is unable to render, please try loading this page with nbviewer.org.</b></div><div class=\"sk-container\" hidden><div class=\"sk-item sk-dashed-wrapped\"><div class=\"sk-label-container\"><div class=\"sk-label fitted sk-toggleable\"><input class=\"sk-toggleable__control sk-hidden--visually\" id=\"sk-estimator-id-21\" type=\"checkbox\" ><label for=\"sk-estimator-id-21\" class=\"sk-toggleable__label fitted sk-toggleable__label-arrow fitted\">&nbsp;&nbsp;GridSearchCV<a class=\"sk-estimator-doc-link fitted\" rel=\"noreferrer\" target=\"_blank\" href=\"https://scikit-learn.org/1.5/modules/generated/sklearn.model_selection.GridSearchCV.html\">?<span>Documentation for GridSearchCV</span></a><span class=\"sk-estimator-doc-link fitted\">i<span>Fitted</span></span></label><div class=\"sk-toggleable__content fitted\"><pre>GridSearchCV(estimator=Pipeline(steps=[(&#x27;cvec1&#x27;, CountVectorizer()),\n",
       "                                       (&#x27;model1&#x27;, LogisticRegression())]),\n",
       "             n_jobs=-1,\n",
       "             param_grid={&#x27;cvec1__max_features&#x27;: [None, 1000, 5000, 10000],\n",
       "                         &#x27;cvec1__stop_words&#x27;: [None, &#x27;english&#x27;],\n",
       "                         &#x27;model1__penalty&#x27;: [None, &#x27;l2&#x27;]},\n",
       "             verbose=1)</pre></div> </div></div><div class=\"sk-parallel\"><div class=\"sk-parallel-item\"><div class=\"sk-item\"><div class=\"sk-label-container\"><div class=\"sk-label fitted sk-toggleable\"><input class=\"sk-toggleable__control sk-hidden--visually\" id=\"sk-estimator-id-22\" type=\"checkbox\" ><label for=\"sk-estimator-id-22\" class=\"sk-toggleable__label fitted sk-toggleable__label-arrow fitted\">best_estimator_: Pipeline</label><div class=\"sk-toggleable__content fitted\"><pre>Pipeline(steps=[(&#x27;cvec1&#x27;, CountVectorizer(stop_words=&#x27;english&#x27;)),\n",
       "                (&#x27;model1&#x27;, LogisticRegression())])</pre></div> </div></div><div class=\"sk-serial\"><div class=\"sk-item\"><div class=\"sk-serial\"><div class=\"sk-item\"><div class=\"sk-estimator fitted sk-toggleable\"><input class=\"sk-toggleable__control sk-hidden--visually\" id=\"sk-estimator-id-23\" type=\"checkbox\" ><label for=\"sk-estimator-id-23\" class=\"sk-toggleable__label fitted sk-toggleable__label-arrow fitted\">&nbsp;CountVectorizer<a class=\"sk-estimator-doc-link fitted\" rel=\"noreferrer\" target=\"_blank\" href=\"https://scikit-learn.org/1.5/modules/generated/sklearn.feature_extraction.text.CountVectorizer.html\">?<span>Documentation for CountVectorizer</span></a></label><div class=\"sk-toggleable__content fitted\"><pre>CountVectorizer(stop_words=&#x27;english&#x27;)</pre></div> </div></div><div class=\"sk-item\"><div class=\"sk-estimator fitted sk-toggleable\"><input class=\"sk-toggleable__control sk-hidden--visually\" id=\"sk-estimator-id-24\" type=\"checkbox\" ><label for=\"sk-estimator-id-24\" class=\"sk-toggleable__label fitted sk-toggleable__label-arrow fitted\">&nbsp;LogisticRegression<a class=\"sk-estimator-doc-link fitted\" rel=\"noreferrer\" target=\"_blank\" href=\"https://scikit-learn.org/1.5/modules/generated/sklearn.linear_model.LogisticRegression.html\">?<span>Documentation for LogisticRegression</span></a></label><div class=\"sk-toggleable__content fitted\"><pre>LogisticRegression()</pre></div> </div></div></div></div></div></div></div></div></div></div></div>"
      ],
      "text/plain": [
       "GridSearchCV(estimator=Pipeline(steps=[('cvec1', CountVectorizer()),\n",
       "                                       ('model1', LogisticRegression())]),\n",
       "             n_jobs=-1,\n",
       "             param_grid={'cvec1__max_features': [None, 1000, 5000, 10000],\n",
       "                         'cvec1__stop_words': [None, 'english'],\n",
       "                         'model1__penalty': [None, 'l2']},\n",
       "             verbose=1)"
      ]
     },
     "execution_count": 149,
     "metadata": {},
     "output_type": "execute_result"
    }
   ],
   "source": [
    "# fit model\n",
    "gs1.fit(X_train, y_train)"
   ]
  },
  {
   "cell_type": "markdown",
   "id": "3452fc6c-142e-4ceb-af17-2d424efbd13a",
   "metadata": {},
   "source": [
    "**Model 1 Evaluation**"
   ]
  },
  {
   "cell_type": "code",
   "execution_count": 422,
   "id": "993aaa71-5863-4e98-9e3e-5beed19acc05",
   "metadata": {
    "tags": []
   },
   "outputs": [
    {
     "name": "stdout",
     "output_type": "stream",
     "text": [
      "{'cvec1__max_features': None, 'cvec1__stop_words': 'english', 'model1__penalty': 'l2'}\n"
     ]
    }
   ],
   "source": [
    "# best params\n",
    "print(gs1.best_params_)"
   ]
  },
  {
   "cell_type": "code",
   "execution_count": 420,
   "id": "00279acb-829d-41ec-afd5-279dc5e2078b",
   "metadata": {
    "tags": []
   },
   "outputs": [
    {
     "name": "stdout",
     "output_type": "stream",
     "text": [
      "0.996790757381258\n"
     ]
    }
   ],
   "source": [
    "# training score\n",
    "print(gs1.score(X_train, y_train))"
   ]
  },
  {
   "cell_type": "code",
   "execution_count": 461,
   "id": "77d045ae-1d91-4d84-ae6e-bf0d256fd312",
   "metadata": {
    "tags": []
   },
   "outputs": [
    {
     "name": "stdout",
     "output_type": "stream",
     "text": [
      "Best Accuracy Score: 0.919\n",
      "Actual Accuracy Score: 0.916\n",
      "Misclassification Rate: 0.084\n",
      "Precision Score: 0.9\n",
      "F1 Score: 0.92\n"
     ]
    },
    {
     "data": {
      "image/png": "[encoded data removed]",
      "text/plain": [
       "<Figure size 900x400 with 2 Axes>"
      ]
     },
     "metadata": {},
     "output_type": "display_data"
    }
   ],
   "source": [
    "metrics.append(evaluate_model(gs1))"
   ]
  },
  {
   "cell_type": "code",
   "execution_count": null,
   "id": "7663c2b6-ea32-4d73-b961-282860efffbd",
   "metadata": {},
   "outputs": [],
   "source": []
  },
  {
   "cell_type": "code",
   "execution_count": null,
   "id": "40c2df70-9bbc-481b-9afe-0f16cb552780",
   "metadata": {},
   "outputs": [],
   "source": []
  },
  {
   "cell_type": "code",
   "execution_count": null,
   "id": "4f3bb4d6-330d-44a7-8013-c7b2b0a55993",
   "metadata": {},
   "outputs": [],
   "source": []
  },
  {
   "cell_type": "code",
   "execution_count": null,
   "id": "647f2745-940a-46a3-abf5-ea908b693822",
   "metadata": {},
   "outputs": [],
   "source": []
  },
  {
   "cell_type": "code",
   "execution_count": null,
   "id": "38ac65d7-1081-4e2b-a165-116585412320",
   "metadata": {},
   "outputs": [],
   "source": []
  },
  {
   "cell_type": "code",
   "execution_count": null,
   "id": "25316ecc-9e7b-4e0a-a252-81ee40f12f66",
   "metadata": {
    "tags": []
   },
   "outputs": [],
   "source": [
    "metrics"
   ]
  },
  {
   "cell_type": "code",
   "execution_count": null,
   "id": "6d1b90e2-d0bc-4d75-a6e9-4b283ab66d10",
   "metadata": {},
   "outputs": [],
   "source": []
  }
 ],
 "metadata": {
  "kernelspec": {
   "display_name": "Python 3 (ipykernel)",
   "language": "python",
   "name": "python3"
  },
  "language_info": {
   "codemirror_mode": {
    "name": "ipython",
    "version": 3
   },
   "file_extension": ".py",
   "mimetype": "text/x-python",
   "name": "python",
   "nbconvert_exporter": "python",
   "pygments_lexer": "ipython3",
   "version": "3.11.5"
  }
 },
 "nbformat": 4,
 "nbformat_minor": 5
}
